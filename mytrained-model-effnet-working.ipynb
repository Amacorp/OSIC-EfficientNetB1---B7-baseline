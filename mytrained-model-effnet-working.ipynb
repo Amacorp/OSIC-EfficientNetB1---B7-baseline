{
 "cells": [
  {
   "cell_type": "markdown",
   "metadata": {
    "papermill": {
     "duration": 0.067218,
     "end_time": "2020-10-04T09:06:25.885266",
     "exception": false,
     "start_time": "2020-10-04T09:06:25.818048",
     "status": "completed"
    },
    "tags": []
   },
   "source": [
    "commits:\n",
    "2. Dropout_model = 0.3855,FVC_weight = 0.2,Confidence_weight = 0.2 - 6.8085\n",
    "3. same but weights=0.3 - 6.8117\n",
    "\n",
    "TODO:\n",
    "- Try bigger weights\n",
    "- try different lung thresholds (although its trained on-500)\n",
    "- Ensemble it with the E5 version\n",
    "- Train mine again on 128pix"
   ]
  },
  {
   "cell_type": "markdown",
   "metadata": {
    "papermill": {
     "duration": 0.064579,
     "end_time": "2020-10-04T09:06:26.014815",
     "exception": false,
     "start_time": "2020-10-04T09:06:25.950236",
     "status": "completed"
    },
    "tags": []
   },
   "source": [
    "### based on the notebook [Higher LB score by tuning mloss (around -6.811)](https://www.kaggle.com/reighns/higher-lb-score-by-tuning-mloss-around-6-811) from [Hongnan Gao](https://www.kaggle.com/reighns)  \n",
    "\n",
    "#### Adds my Effnettrained trained using https://www.kaggle.com/khoongweihao/k-fold-tf-efficientnet-models-training\n",
    "\n",
    "But with added features of ctscans Hist,and lung volume and augmented CTscans- from here: https://www.kaggle.com/hfutybx/osic-feature-extract-from-ct"
   ]
  },
  {
   "cell_type": "markdown",
   "metadata": {
    "papermill": {
     "duration": 0.066629,
     "end_time": "2020-10-04T09:06:26.148523",
     "exception": false,
     "start_time": "2020-10-04T09:06:26.081894",
     "status": "completed"
    },
    "tags": []
   },
   "source": [
    "<a class=\"anchor\" id=\"0\"></a>\n",
    "# [OSIC Pulmonary Fibrosis Progression](https://www.kaggle.com/c/osic-pulmonary-fibrosis-progression)"
   ]
  },
  {
   "cell_type": "markdown",
   "metadata": {
    "papermill": {
     "duration": 0.065411,
     "end_time": "2020-10-04T09:06:26.280814",
     "exception": false,
     "start_time": "2020-10-04T09:06:26.215403",
     "status": "completed"
    },
    "tags": []
   },
   "source": [
    "# Acknowledgements from Hongnan's original NB:\n",
    "\n",
    "* Ulrich GOUE's Osic-Multiple-Quantile-Regression-Starter\n",
    "    - Model that uses images can be found at: https://www.kaggle.com/miklgr500/linear-decay-based-on-resnet-cnn\n",
    "* Michael Kazachok's Linear Decay (based on ResNet CNN)\n",
    "    - Model that uses tabular data can be found at: https://www.kaggle.com/ulrich07/osic-multiple-quantile-regression-starter\n",
    "* Replaced Michael's model with EfficientNets B0, B2, B4\n",
    "* Tuning the parameters of the models from https://www.kaggle.com/reighns/higher-lb-score-by-tuning-mloss \n",
    "* https://www.kaggle.com/leoisleo1/efficientnets-quantile-regression-inference\n",
    "* https://www.kaggle.com/khoongweihao/efficientnets-quantile-regression-inference"
   ]
  },
  {
   "cell_type": "markdown",
   "metadata": {
    "papermill": {
     "duration": 0.064826,
     "end_time": "2020-10-04T09:06:26.411722",
     "exception": false,
     "start_time": "2020-10-04T09:06:26.346896",
     "status": "completed"
    },
    "tags": []
   },
   "source": [
    "<a class=\"anchor\" id=\"0.1\"></a>\n",
    "## Table of Contents\n",
    "\n",
    "1. [My upgrade](#1)\n",
    "    -  [Commit now](#1.1)\n",
    "    -  [Previous commits](#1.2)\n",
    "1. [Import libraries](#2)\n",
    "1. [Download data, auxiliary functions and model tuning](#3)\n",
    "1. [Prediction and submission](#4)\n",
    "    -  [Average prediction](#4.1)\n",
    "    -  [Osic-Multiple-Quantile-Regression](#4.2)\n",
    "    -  [The change of mloss](#4.3) \n",
    "    -  [Ensemble and blending](#4.4)"
   ]
  },
  {
   "cell_type": "markdown",
   "metadata": {
    "papermill": {
     "duration": 0.068268,
     "end_time": "2020-10-04T09:06:26.546523",
     "exception": false,
     "start_time": "2020-10-04T09:06:26.478255",
     "status": "completed"
    },
    "tags": []
   },
   "source": [
    "## 1. My upgrade <a class=\"anchor\" id=\"1\"></a>\n",
    "\n",
    "[Back to Table of Contents](#0.1)"
   ]
  },
  {
   "cell_type": "code",
   "execution_count": 1,
   "metadata": {
    "execution": {
     "iopub.execute_input": "2020-10-04T09:06:26.684014Z",
     "iopub.status.busy": "2020-10-04T09:06:26.683001Z",
     "iopub.status.idle": "2020-10-04T09:06:26.685968Z",
     "shell.execute_reply": "2020-10-04T09:06:26.685452Z"
    },
    "papermill": {
     "duration": 0.074166,
     "end_time": "2020-10-04T09:06:26.686072",
     "exception": false,
     "start_time": "2020-10-04T09:06:26.611906",
     "status": "completed"
    },
    "tags": []
   },
   "outputs": [],
   "source": [
    "Dropout_model = 0.35\n",
    "FVC_weight = 0.2\n",
    "Confidence_weight = 0.2"
   ]
  },
  {
   "cell_type": "code",
   "execution_count": 2,
   "metadata": {
    "execution": {
     "iopub.execute_input": "2020-10-04T09:06:26.821260Z",
     "iopub.status.busy": "2020-10-04T09:06:26.820426Z",
     "iopub.status.idle": "2020-10-04T09:06:26.823254Z",
     "shell.execute_reply": "2020-10-04T09:06:26.822658Z"
    },
    "papermill": {
     "duration": 0.072188,
     "end_time": "2020-10-04T09:06:26.823353",
     "exception": false,
     "start_time": "2020-10-04T09:06:26.751165",
     "status": "completed"
    },
    "tags": []
   },
   "outputs": [],
   "source": [
    "EPOCHS = 10\n",
    "BATCH_SIZE = 4\n",
    "NFOLD = 5\n",
    "LR = 0.003\n",
    "SAVE_BEST = True\n",
    "MODEL_CLASS = 'b1'"
   ]
  },
  {
   "cell_type": "markdown",
   "metadata": {
    "papermill": {
     "duration": 0.067031,
     "end_time": "2020-10-04T09:06:26.956961",
     "exception": false,
     "start_time": "2020-10-04T09:06:26.889930",
     "status": "completed"
    },
    "tags": []
   },
   "source": [
    "## 2. Import libraries <a class=\"anchor\" id=\"2\"></a>\n",
    "\n",
    "[Back to Table of Contents](#0.1)"
   ]
  },
  {
   "cell_type": "code",
   "execution_count": 3,
   "metadata": {
    "_kg_hide-input": true,
    "_kg_hide-output": true,
    "execution": {
     "iopub.execute_input": "2020-10-04T09:06:27.101621Z",
     "iopub.status.busy": "2020-10-04T09:06:27.100721Z",
     "iopub.status.idle": "2020-10-04T09:06:46.149062Z",
     "shell.execute_reply": "2020-10-04T09:06:46.148491Z"
    },
    "papermill": {
     "duration": 19.124084,
     "end_time": "2020-10-04T09:06:46.149186",
     "exception": false,
     "start_time": "2020-10-04T09:06:27.025102",
     "status": "completed"
    },
    "tags": []
   },
   "outputs": [
    {
     "name": "stdout",
     "output_type": "stream",
     "text": [
      "Looking in links: ./\r\n",
      "Processing /kaggle/input/kerasapplications/keras-team-keras-applications-3b180cb\r\n",
      "Requirement already satisfied: numpy>=1.9.1 in /opt/conda/lib/python3.7/site-packages (from Keras-Applications==1.0.8) (1.18.5)\r\n",
      "Requirement already satisfied: h5py in /opt/conda/lib/python3.7/site-packages (from Keras-Applications==1.0.8) (2.10.0)\r\n",
      "Requirement already satisfied: six in /opt/conda/lib/python3.7/site-packages (from h5py->Keras-Applications==1.0.8) (1.14.0)\r\n",
      "Building wheels for collected packages: Keras-Applications\r\n",
      "  Building wheel for Keras-Applications (setup.py) ... \u001b[?25l-\b \b\\\b \bdone\r\n",
      "\u001b[?25h  Created wheel for Keras-Applications: filename=Keras_Applications-1.0.8-py3-none-any.whl size=50704 sha256=c6cf1662f19395a006fe00fbaf5173d1801b12cd3981c3b0993b769ce4f646d0\r\n",
      "  Stored in directory: /root/.cache/pip/wheels/f4/96/13/eccdd9391bd8df958d78851b98ec4dc207ba05b67b011eb70a\r\n",
      "Successfully built Keras-Applications\r\n",
      "Installing collected packages: Keras-Applications\r\n",
      "Successfully installed Keras-Applications-1.0.8\r\n",
      "Looking in links: ./\r\n",
      "Processing /kaggle/input/efficientnet/efficientnet-1.1.0\r\n",
      "Requirement already satisfied: keras_applications<=1.0.8,>=1.0.7 in /opt/conda/lib/python3.7/site-packages (from efficientnet==1.1.0) (1.0.8)\r\n",
      "Requirement already satisfied: scikit-image in /opt/conda/lib/python3.7/site-packages (from efficientnet==1.1.0) (0.16.2)\r\n",
      "Requirement already satisfied: numpy>=1.9.1 in /opt/conda/lib/python3.7/site-packages (from keras_applications<=1.0.8,>=1.0.7->efficientnet==1.1.0) (1.18.5)\r\n",
      "Requirement already satisfied: h5py in /opt/conda/lib/python3.7/site-packages (from keras_applications<=1.0.8,>=1.0.7->efficientnet==1.1.0) (2.10.0)\r\n",
      "Requirement already satisfied: scipy>=0.19.0 in /opt/conda/lib/python3.7/site-packages (from scikit-image->efficientnet==1.1.0) (1.4.1)\r\n",
      "Requirement already satisfied: matplotlib!=3.0.0,>=2.0.0 in /opt/conda/lib/python3.7/site-packages (from scikit-image->efficientnet==1.1.0) (3.2.1)\r\n",
      "Requirement already satisfied: networkx>=2.0 in /opt/conda/lib/python3.7/site-packages (from scikit-image->efficientnet==1.1.0) (2.4)\r\n",
      "Requirement already satisfied: pillow>=4.3.0 in /opt/conda/lib/python3.7/site-packages (from scikit-image->efficientnet==1.1.0) (7.2.0)\r\n",
      "Requirement already satisfied: imageio>=2.3.0 in /opt/conda/lib/python3.7/site-packages (from scikit-image->efficientnet==1.1.0) (2.8.0)\r\n",
      "Requirement already satisfied: PyWavelets>=0.4.0 in /opt/conda/lib/python3.7/site-packages (from scikit-image->efficientnet==1.1.0) (1.1.1)\r\n",
      "Requirement already satisfied: six in /opt/conda/lib/python3.7/site-packages (from h5py->keras_applications<=1.0.8,>=1.0.7->efficientnet==1.1.0) (1.14.0)\r\n",
      "Requirement already satisfied: kiwisolver>=1.0.1 in /opt/conda/lib/python3.7/site-packages (from matplotlib!=3.0.0,>=2.0.0->scikit-image->efficientnet==1.1.0) (1.2.0)\r\n",
      "Requirement already satisfied: cycler>=0.10 in /opt/conda/lib/python3.7/site-packages (from matplotlib!=3.0.0,>=2.0.0->scikit-image->efficientnet==1.1.0) (0.10.0)\r\n",
      "Requirement already satisfied: python-dateutil>=2.1 in /opt/conda/lib/python3.7/site-packages (from matplotlib!=3.0.0,>=2.0.0->scikit-image->efficientnet==1.1.0) (2.8.1)\r\n",
      "Requirement already satisfied: pyparsing!=2.0.4,!=2.1.2,!=2.1.6,>=2.0.1 in /opt/conda/lib/python3.7/site-packages (from matplotlib!=3.0.0,>=2.0.0->scikit-image->efficientnet==1.1.0) (2.4.7)\r\n",
      "Requirement already satisfied: decorator>=4.3.0 in /opt/conda/lib/python3.7/site-packages (from networkx>=2.0->scikit-image->efficientnet==1.1.0) (4.4.2)\r\n",
      "Building wheels for collected packages: efficientnet\r\n",
      "  Building wheel for efficientnet (setup.py) ... \u001b[?25l-\b \b\\\b \bdone\r\n",
      "\u001b[?25h  Created wheel for efficientnet: filename=efficientnet-1.1.0-py3-none-any.whl size=14141 sha256=65bf91aea0a321fa7651fff80dfea8d15abbc01e601b4212094eeca23224050a\r\n",
      "  Stored in directory: /root/.cache/pip/wheels/24/f5/31/3cc20871288fe532128224a3f5af7b4d67efb9835bd5683522\r\n",
      "Successfully built efficientnet\r\n",
      "Installing collected packages: efficientnet\r\n",
      "Successfully installed efficientnet-1.1.0\r\n"
     ]
    }
   ],
   "source": [
    "!pip install ../input/kerasapplications/keras-team-keras-applications-3b180cb -f ./ --no-index\n",
    "!pip install ../input/efficientnet/efficientnet-1.1.0/ -f ./ --no-index"
   ]
  },
  {
   "cell_type": "code",
   "execution_count": 4,
   "metadata": {
    "_cell_guid": "79c7e3d0-c299-4dcb-8224-4455121ee9b0",
    "_kg_hide-input": false,
    "_uuid": "d629ff2d2480ee46fbb7e2d37f6b5fab8052498a",
    "execution": {
     "iopub.execute_input": "2020-10-04T09:06:46.306130Z",
     "iopub.status.busy": "2020-10-04T09:06:46.305166Z",
     "iopub.status.idle": "2020-10-04T09:06:53.625893Z",
     "shell.execute_reply": "2020-10-04T09:06:53.626560Z"
    },
    "papermill": {
     "duration": 7.404101,
     "end_time": "2020-10-04T09:06:53.626750",
     "exception": false,
     "start_time": "2020-10-04T09:06:46.222649",
     "status": "completed"
    },
    "tags": []
   },
   "outputs": [],
   "source": [
    "import os\n",
    "import cv2\n",
    "import pydicom\n",
    "import pandas as pd\n",
    "import numpy as np \n",
    "import tensorflow as tf \n",
    "import matplotlib.pyplot as plt \n",
    "import random\n",
    "from tqdm.notebook import tqdm \n",
    "from sklearn.model_selection import train_test_split, KFold\n",
    "from sklearn.metrics import mean_absolute_error\n",
    "from tensorflow_addons.optimizers import RectifiedAdam\n",
    "from tensorflow.keras import Model\n",
    "import tensorflow.keras.backend as K\n",
    "import tensorflow.keras.layers as L\n",
    "import tensorflow.keras.models as M\n",
    "from tensorflow.keras.optimizers import Nadam\n",
    "import seaborn as sns\n",
    "from PIL import Image\n",
    "\n",
    "def seed_everything(seed=2020):\n",
    "    random.seed(seed)\n",
    "    os.environ['PYTHONHASHSEED'] = str(seed)\n",
    "    np.random.seed(seed)\n",
    "    tf.random.set_seed(seed)\n",
    "    \n",
    "seed_everything(42)"
   ]
  },
  {
   "cell_type": "code",
   "execution_count": 5,
   "metadata": {
    "_kg_hide-input": true,
    "execution": {
     "iopub.execute_input": "2020-10-04T09:06:53.885514Z",
     "iopub.status.busy": "2020-10-04T09:06:53.884735Z",
     "iopub.status.idle": "2020-10-04T09:06:57.032323Z",
     "shell.execute_reply": "2020-10-04T09:06:57.033217Z"
    },
    "papermill": {
     "duration": 3.25399,
     "end_time": "2020-10-04T09:06:57.033395",
     "exception": false,
     "start_time": "2020-10-04T09:06:53.779405",
     "status": "completed"
    },
    "tags": []
   },
   "outputs": [],
   "source": [
    "config = tf.compat.v1.ConfigProto()\n",
    "config.gpu_options.allow_growth = True\n",
    "session = tf.compat.v1.Session(config=config)"
   ]
  },
  {
   "cell_type": "markdown",
   "metadata": {
    "papermill": {
     "duration": 0.071099,
     "end_time": "2020-10-04T09:06:57.176433",
     "exception": false,
     "start_time": "2020-10-04T09:06:57.105334",
     "status": "completed"
    },
    "tags": []
   },
   "source": [
    "## 3. Download data, auxiliary functions and model tuning <a class=\"anchor\" id=\"3\"></a>\n",
    "\n",
    "[Back to Table of Contents](#0.1)"
   ]
  },
  {
   "cell_type": "code",
   "execution_count": 6,
   "metadata": {
    "execution": {
     "iopub.execute_input": "2020-10-04T09:06:57.328132Z",
     "iopub.status.busy": "2020-10-04T09:06:57.327210Z",
     "iopub.status.idle": "2020-10-04T09:06:57.341263Z",
     "shell.execute_reply": "2020-10-04T09:06:57.340562Z"
    },
    "papermill": {
     "duration": 0.092724,
     "end_time": "2020-10-04T09:06:57.341389",
     "exception": false,
     "start_time": "2020-10-04T09:06:57.248665",
     "status": "completed"
    },
    "tags": []
   },
   "outputs": [],
   "source": [
    "train = pd.read_csv('../input/osic-pulmonary-fibrosis-progression/train.csv') "
   ]
  },
  {
   "cell_type": "code",
   "execution_count": 7,
   "metadata": {
    "execution": {
     "iopub.execute_input": "2020-10-04T09:06:57.489560Z",
     "iopub.status.busy": "2020-10-04T09:06:57.488728Z",
     "iopub.status.idle": "2020-10-04T09:06:57.491222Z",
     "shell.execute_reply": "2020-10-04T09:06:57.492274Z"
    },
    "papermill": {
     "duration": 0.07939,
     "end_time": "2020-10-04T09:06:57.492412",
     "exception": false,
     "start_time": "2020-10-04T09:06:57.413022",
     "status": "completed"
    },
    "tags": []
   },
   "outputs": [],
   "source": [
    "v_mean=3342 \n",
    "v_stdev=1361.7\n",
    "hMean_mean=-739\n",
    "hMean_stdev=62.3\n",
    "hSkew_mean=1.51\n",
    "hSkew_stdev=0.53\n",
    "hKurt_mean=2.33\n",
    "hKurt_stdev=3.22"
   ]
  },
  {
   "cell_type": "code",
   "execution_count": 8,
   "metadata": {
    "execution": {
     "iopub.execute_input": "2020-10-04T09:06:57.644226Z",
     "iopub.status.busy": "2020-10-04T09:06:57.643243Z",
     "iopub.status.idle": "2020-10-04T09:06:57.731629Z",
     "shell.execute_reply": "2020-10-04T09:06:57.730720Z"
    },
    "papermill": {
     "duration": 0.167968,
     "end_time": "2020-10-04T09:06:57.731789",
     "exception": false,
     "start_time": "2020-10-04T09:06:57.563821",
     "status": "completed"
    },
    "tags": []
   },
   "outputs": [
    {
     "data": {
      "application/vnd.jupyter.widget-view+json": {
       "model_id": "2dc51aecbc4648c596ee3035e493e9e1",
       "version_major": 2,
       "version_minor": 0
      },
      "text/plain": [
       "HBox(children=(FloatProgress(value=1.0, bar_style='info', max=1.0), HTML(value='')))"
      ]
     },
     "metadata": {},
     "output_type": "display_data"
    },
    {
     "name": "stdout",
     "output_type": "stream",
     "text": [
      "\n"
     ]
    }
   ],
   "source": [
    "P=[]\n",
    "for i, p in tqdm(enumerate(train.Patient.unique())):\n",
    "    P.append(p)"
   ]
  },
  {
   "cell_type": "code",
   "execution_count": 9,
   "metadata": {
    "execution": {
     "iopub.execute_input": "2020-10-04T09:06:57.934552Z",
     "iopub.status.busy": "2020-10-04T09:06:57.933570Z",
     "iopub.status.idle": "2020-10-04T09:07:55.383460Z",
     "shell.execute_reply": "2020-10-04T09:07:55.384126Z"
    },
    "papermill": {
     "duration": 57.561492,
     "end_time": "2020-10-04T09:07:55.384282",
     "exception": false,
     "start_time": "2020-10-04T09:06:57.822790",
     "status": "completed"
    },
    "tags": []
   },
   "outputs": [
    {
     "name": "stdout",
     "output_type": "stream",
     "text": [
      "Number of models: 1\n"
     ]
    }
   ],
   "source": [
    "from tensorflow.keras.layers import (\n",
    "    Dense, Dropout, Activation, Flatten, Input, BatchNormalization, GlobalAveragePooling2D, Add, Conv2D, AveragePooling2D, \n",
    "    LeakyReLU, Concatenate \n",
    ")\n",
    "import efficientnet.tfkeras as efn\n",
    "\n",
    "def get_efficientnet(model, shape):\n",
    "    models_dict = {\n",
    "        'b0': efn.EfficientNetB0(input_shape=shape,weights=None,include_top=False),\n",
    "        'b1': efn.EfficientNetB1(input_shape=shape,weights=None,include_top=False),\n",
    "        'b2': efn.EfficientNetB2(input_shape=shape,weights=None,include_top=False),\n",
    "        'b3': efn.EfficientNetB3(input_shape=shape,weights=None,include_top=False),\n",
    "        'b4': efn.EfficientNetB4(input_shape=shape,weights=None,include_top=False),\n",
    "        'b5': efn.EfficientNetB5(input_shape=shape,weights=None,include_top=False),\n",
    "        'b6': efn.EfficientNetB6(input_shape=shape,weights=None,include_top=False),\n",
    "        'b7': efn.EfficientNetB7(input_shape=shape,weights=None,include_top=False)\n",
    "    }\n",
    "    return models_dict[model]\n",
    "\n",
    "def build_model(shape=(512, 512, 1), model_class=None):\n",
    "    inp = Input(shape=shape)\n",
    "    base = get_efficientnet(model_class, shape)\n",
    "    x = base(inp)\n",
    "    x = GlobalAveragePooling2D()(x)\n",
    "    inp2 = Input(shape=(8,))\n",
    "    x2 = tf.keras.layers.GaussianNoise(0.2)(inp2)\n",
    "    x = Concatenate()([x, x2]) \n",
    "    x = Dropout(Dropout_model)(x)\n",
    "    x = Dense(1)(x)\n",
    "    model = Model([inp, inp2] , x)\n",
    "    \n",
    "    #weights = [w for w in os.listdir('../input/osic-model-weights') if model_class in w][0]\n",
    "    model.load_weights('../input/k-fold-tf-efficientnet-models-training-errorhunt/Full50EpsAugHist.h5')\n",
    "    return model\n",
    "\n",
    "model_classes = ['b1'] #['b0','b1','b2','b3',b4','b5','b6','b7']\n",
    "models = [build_model(shape=(512, 512, 1), model_class=m) for m in model_classes]\n",
    "print('Number of models: ' + str(len(models)))"
   ]
  },
  {
   "cell_type": "code",
   "execution_count": 10,
   "metadata": {
    "execution": {
     "iopub.execute_input": "2020-10-04T09:07:55.543287Z",
     "iopub.status.busy": "2020-10-04T09:07:55.542541Z",
     "iopub.status.idle": "2020-10-04T09:07:55.546263Z",
     "shell.execute_reply": "2020-10-04T09:07:55.546922Z"
    },
    "papermill": {
     "duration": 0.087376,
     "end_time": "2020-10-04T09:07:55.547051",
     "exception": false,
     "start_time": "2020-10-04T09:07:55.459675",
     "status": "completed"
    },
    "tags": []
   },
   "outputs": [],
   "source": [
    "tr_p, vl_p = train_test_split(P, shuffle=True, train_size = 0.8) "
   ]
  },
  {
   "cell_type": "code",
   "execution_count": 11,
   "metadata": {
    "_kg_hide-input": true,
    "execution": {
     "iopub.execute_input": "2020-10-04T09:07:55.700459Z",
     "iopub.status.busy": "2020-10-04T09:07:55.699634Z",
     "iopub.status.idle": "2020-10-04T09:07:55.703019Z",
     "shell.execute_reply": "2020-10-04T09:07:55.703471Z"
    },
    "papermill": {
     "duration": 0.084509,
     "end_time": "2020-10-04T09:07:55.703596",
     "exception": false,
     "start_time": "2020-10-04T09:07:55.619087",
     "status": "completed"
    },
    "tags": []
   },
   "outputs": [],
   "source": [
    "def score(fvc_true, fvc_pred, sigma):\n",
    "    sigma_clip = np.maximum(sigma, 70) # changed from 70, trie 66.7 too\n",
    "    delta = np.abs(fvc_true - fvc_pred)\n",
    "    delta = np.minimum(delta, 1000)\n",
    "    sq2 = np.sqrt(2)\n",
    "    metric = (delta / sigma_clip)*sq2 + np.log(sigma_clip* sq2)\n",
    "    return np.mean(metric)"
   ]
  },
  {
   "cell_type": "markdown",
   "metadata": {
    "papermill": {
     "duration": 0.086583,
     "end_time": "2020-10-04T09:07:55.878810",
     "exception": false,
     "start_time": "2020-10-04T09:07:55.792227",
     "status": "completed"
    },
    "tags": []
   },
   "source": [
    "# add in the ct processing of the test ct scans as a step before the model.predict step."
   ]
  },
  {
   "cell_type": "code",
   "execution_count": 12,
   "metadata": {
    "execution": {
     "iopub.execute_input": "2020-10-04T09:07:56.037129Z",
     "iopub.status.busy": "2020-10-04T09:07:56.036171Z",
     "iopub.status.idle": "2020-10-04T09:07:57.097443Z",
     "shell.execute_reply": "2020-10-04T09:07:57.096255Z"
    },
    "papermill": {
     "duration": 1.14576,
     "end_time": "2020-10-04T09:07:57.097574",
     "exception": false,
     "start_time": "2020-10-04T09:07:55.951814",
     "status": "completed"
    },
    "tags": []
   },
   "outputs": [],
   "source": [
    "import os\n",
    "import cv2\n",
    "import pydicom\n",
    "import pandas as pd\n",
    "import numpy as np \n",
    "import tensorflow as tf \n",
    "import matplotlib.pyplot as plt \n",
    "import random\n",
    "from tqdm.notebook import tqdm \n",
    "from sklearn.model_selection import train_test_split, KFold\n",
    "from sklearn.metrics import mean_absolute_error\n",
    "from tensorflow_addons.optimizers import RectifiedAdam\n",
    "from tensorflow.keras import Model\n",
    "import tensorflow.keras.backend as K\n",
    "import tensorflow.keras.layers as L\n",
    "import tensorflow.keras.models as M\n",
    "from tensorflow.keras.optimizers import Nadam\n",
    "import seaborn as sns\n",
    "from PIL import Image\n",
    "\n",
    "\n",
    "import sys\n",
    "\n",
    "\n",
    "import glob\n",
    "\n",
    "from tqdm.auto import tqdm\n",
    "#import gdcm\n",
    "import pydicom\n",
    "\n",
    "import scipy.ndimage as ndimage\n",
    "from scipy.ndimage import zoom\n",
    "from scipy.stats import kurtosis\n",
    "from scipy.stats import skew\n",
    "\n",
    "import torch\n",
    "import torch.nn as nn\n",
    "from torch.utils.data import DataLoader\n",
    "from torch.utils.data.dataset import Dataset\n",
    "\n",
    "\n",
    "import warnings\n",
    "warnings.filterwarnings(\"ignore\")\n",
    "\n"
   ]
  },
  {
   "cell_type": "code",
   "execution_count": 13,
   "metadata": {
    "execution": {
     "iopub.execute_input": "2020-10-04T09:07:57.251367Z",
     "iopub.status.busy": "2020-10-04T09:07:57.250692Z",
     "iopub.status.idle": "2020-10-04T09:07:59.265925Z",
     "shell.execute_reply": "2020-10-04T09:07:59.264713Z"
    },
    "papermill": {
     "duration": 2.095543,
     "end_time": "2020-10-04T09:07:59.266079",
     "exception": false,
     "start_time": "2020-10-04T09:07:57.170536",
     "status": "completed"
    },
    "tags": []
   },
   "outputs": [],
   "source": [
    "sys.path.append('../input/efficientnet-pytorch/EfficientNet-PyTorch-master/')\n",
    "sys.path.append('../input/pretrainedmodels/pretrainedmodels-0.7.4/')\n",
    "sys.path.append('../input/segmentation-models-pytorch/')\n",
    "import segmentation_models_pytorch as smp"
   ]
  },
  {
   "cell_type": "code",
   "execution_count": null,
   "metadata": {
    "papermill": {
     "duration": 0.073707,
     "end_time": "2020-10-04T09:07:59.415094",
     "exception": false,
     "start_time": "2020-10-04T09:07:59.341387",
     "status": "completed"
    },
    "tags": []
   },
   "outputs": [],
   "source": []
  },
  {
   "cell_type": "code",
   "execution_count": 14,
   "metadata": {
    "execution": {
     "iopub.execute_input": "2020-10-04T09:07:59.584363Z",
     "iopub.status.busy": "2020-10-04T09:07:59.582426Z",
     "iopub.status.idle": "2020-10-04T09:07:59.585212Z",
     "shell.execute_reply": "2020-10-04T09:07:59.585715Z"
    },
    "papermill": {
     "duration": 0.096577,
     "end_time": "2020-10-04T09:07:59.585888",
     "exception": false,
     "start_time": "2020-10-04T09:07:59.489311",
     "status": "completed"
    },
    "tags": []
   },
   "outputs": [],
   "source": [
    "def load_scan(path,resize_type='no'):\n",
    "    \"\"\"\n",
    "    Loads scans from a folder and into a list.\n",
    "    \n",
    "    Parameters: path (Folder path)\n",
    "    \n",
    "    Returns: slices (List of slices)\n",
    "    \"\"\"\n",
    "    slices = [pydicom.read_file(path + '/' + s) for s in os.listdir(path)]\n",
    "    slices.sort(key = lambda x: int(x.InstanceNumber))\n",
    "    \n",
    "    try:\n",
    "        slice_thickness = abs(slices[-1].ImagePositionPatient[2] - slices[0].ImagePositionPatient[2])/(len(slices))\n",
    "    except:\n",
    "        try:\n",
    "            slice_thickness = abs(slices[-1].SliceLocation - slices[0].SliceLocation)/(len(slices))\n",
    "        except:\n",
    "            slice_thickness = slices[0].SliceThickness\n",
    "        \n",
    "    for s in slices:\n",
    "        s.SliceThickness = slice_thickness\n",
    "        if resize_type == 'resize':\n",
    "            s.PixelSpacing = s.PixelSpacing*(s.Rows/512)  \n",
    "    return slices"
   ]
  },
  {
   "cell_type": "code",
   "execution_count": 15,
   "metadata": {
    "execution": {
     "iopub.execute_input": "2020-10-04T09:07:59.744182Z",
     "iopub.status.busy": "2020-10-04T09:07:59.742402Z",
     "iopub.status.idle": "2020-10-04T09:07:59.745112Z",
     "shell.execute_reply": "2020-10-04T09:07:59.745694Z"
    },
    "papermill": {
     "duration": 0.086192,
     "end_time": "2020-10-04T09:07:59.745858",
     "exception": false,
     "start_time": "2020-10-04T09:07:59.659666",
     "status": "completed"
    },
    "tags": []
   },
   "outputs": [],
   "source": [
    "def transform_to_hu(slices):\n",
    "    \"\"\"\n",
    "    transform dicom.pixel_array to Hounsfield.\n",
    "    Parameters: list dicoms\n",
    "    Returns:numpy Hounsfield\n",
    "    \"\"\"\n",
    "    \n",
    "    images = np.stack([file.pixel_array for file in slices])\n",
    "    images = images.astype(np.int16)\n",
    "\n",
    "    # convert ouside pixel-values to air:\n",
    "    # I'm using <= -1000 to be sure that other defaults are captured as well\n",
    "    #images[images <= -1000] = 0\n",
    "    \n",
    "    # convert to HU\n",
    "    for n in range(len(slices)):\n",
    "        \n",
    "        intercept = slices[n].RescaleIntercept\n",
    "        slope = slices[n].RescaleSlope\n",
    "        \n",
    "        if slope != 1:\n",
    "            images[n] = slope * images[n].astype(np.float64)\n",
    "            images[n] = images[n].astype(np.int16)\n",
    "            \n",
    "        images[n] += np.int16(intercept)\n",
    "    \n",
    "    return np.array(images, dtype=np.int16)"
   ]
  },
  {
   "cell_type": "code",
   "execution_count": 16,
   "metadata": {
    "execution": {
     "iopub.execute_input": "2020-10-04T09:07:59.906414Z",
     "iopub.status.busy": "2020-10-04T09:07:59.905515Z",
     "iopub.status.idle": "2020-10-04T09:07:59.908201Z",
     "shell.execute_reply": "2020-10-04T09:07:59.908629Z"
    },
    "papermill": {
     "duration": 0.08833,
     "end_time": "2020-10-04T09:07:59.908752",
     "exception": false,
     "start_time": "2020-10-04T09:07:59.820422",
     "status": "completed"
    },
    "tags": []
   },
   "outputs": [],
   "source": [
    "def crop_image(img: np.ndarray):\n",
    "    edge_pixel_value = img[0, 0]\n",
    "    mask = img != edge_pixel_value\n",
    "    return img[np.ix_(mask.any(1),mask.any(0))]\n",
    "\n",
    "def resize_image(img: np.ndarray,reshape=(512,512)):\n",
    "    img = cv2.resize(img,(512,512))\n",
    "    return img\n",
    "\n",
    "def preprocess_img(img,resize_type):\n",
    "    if resize_type == 'resize':\n",
    "        img = [resize_image(im) for im in img]\n",
    "    if resize_type == 'crop':\n",
    "        img = [crop_image(im) for im in img]\n",
    "        \n",
    "    return np.array(img, dtype=np.int64)"
   ]
  },
  {
   "cell_type": "code",
   "execution_count": 17,
   "metadata": {
    "execution": {
     "iopub.execute_input": "2020-10-04T09:08:00.065603Z",
     "iopub.status.busy": "2020-10-04T09:08:00.064951Z",
     "iopub.status.idle": "2020-10-04T09:08:00.068663Z",
     "shell.execute_reply": "2020-10-04T09:08:00.068161Z"
    },
    "papermill": {
     "duration": 0.086924,
     "end_time": "2020-10-04T09:08:00.068783",
     "exception": false,
     "start_time": "2020-10-04T09:07:59.981859",
     "status": "completed"
    },
    "tags": []
   },
   "outputs": [],
   "source": [
    "class Test_Generate(Dataset):\n",
    "    def __init__(self,imgs_dicom,resize_type='no'):\n",
    "        self.imgs_dicom = imgs_dicom\n",
    "        self.resize_type = resize_type\n",
    "    def __getitem__(self,index):\n",
    "        \n",
    "        slice_img = self.imgs_dicom[index].pixel_array\n",
    "        slice_img = (slice_img-slice_img.min())/(slice_img.max()-slice_img.min())\n",
    "        slice_img = (slice_img*255).astype(np.uint8)\n",
    "        if self.resize_type == 'crop':\n",
    "            slice_img = crop_image(slice_img)\n",
    "        elif self.resize_type == 'resize':\n",
    "            slice_img = cv2.resize(slice_img,(512,512))\n",
    "            \n",
    "        slice_img = slice_img[None,:,:]\n",
    "        slice_img = (slice_img/255).astype(np.float32)\n",
    "        return slice_img\n",
    "        \n",
    "    def __len__(self):\n",
    "        return len(self.imgs_dicom)"
   ]
  },
  {
   "cell_type": "code",
   "execution_count": 18,
   "metadata": {
    "execution": {
     "iopub.execute_input": "2020-10-04T09:08:00.229967Z",
     "iopub.status.busy": "2020-10-04T09:08:00.229296Z",
     "iopub.status.idle": "2020-10-04T09:08:05.719592Z",
     "shell.execute_reply": "2020-10-04T09:08:05.718835Z"
    },
    "papermill": {
     "duration": 5.576871,
     "end_time": "2020-10-04T09:08:05.719726",
     "exception": false,
     "start_time": "2020-10-04T09:08:00.142855",
     "status": "completed"
    },
    "tags": []
   },
   "outputs": [],
   "source": [
    "device =  torch.device('cuda:0')\n",
    "model = smp.Unet('densenet121', classes=1, in_channels=1,activation='sigmoid',encoder_weights=None).to(device)\n",
    "model.load_state_dict(torch.load('../input/2020osic/best_lung_Unet_densenet121.pth'))\n",
    "batch = 8\n",
    "\n",
    "def Unet_mask(model: nn.Module,input_data: DataLoader):\n",
    "    model.eval()\n",
    "    outs = []\n",
    "    for idx, sample in enumerate(test_loader):\n",
    "        image = sample\n",
    "        image = image.to(device)\n",
    "        with torch.no_grad():\n",
    "            out = model(image)\n",
    "        out = out.cpu().data.numpy()\n",
    "        out = np.where(out>0.5,1,0)\n",
    "        out = np.squeeze(out,axis=1)\n",
    "        outs.append(out)\n",
    "\n",
    "    outs = np.concatenate(outs)\n",
    "    return outs"
   ]
  },
  {
   "cell_type": "code",
   "execution_count": 19,
   "metadata": {
    "execution": {
     "iopub.execute_input": "2020-10-04T09:08:05.876740Z",
     "iopub.status.busy": "2020-10-04T09:08:05.876073Z",
     "iopub.status.idle": "2020-10-04T09:08:05.879085Z",
     "shell.execute_reply": "2020-10-04T09:08:05.879581Z"
    },
    "papermill": {
     "duration": 0.086212,
     "end_time": "2020-10-04T09:08:05.879710",
     "exception": false,
     "start_time": "2020-10-04T09:08:05.793498",
     "status": "completed"
    },
    "tags": []
   },
   "outputs": [],
   "source": [
    "def caculate_lung_volume(patient_scans,patient_masks):\n",
    "    \"\"\"\n",
    "    caculate volume of lung from mask\n",
    "    Parameters: list dicom scans,list patient CT Mask\n",
    "    Returns: volume cm³　(float)\n",
    "    \"\"\"\n",
    "    lung_volume = 0\n",
    "    for i in range(len(patient_masks)):\n",
    "        \n",
    "        pixel_spacing = patient_scans[i].PixelSpacing\n",
    "        slice_thickness = patient_scans[i].SliceThickness\n",
    "        lung_volume += np.count_nonzero(patient_masks[i])*pixel_spacing[0]*pixel_spacing[1]*slice_thickness\n",
    "        \n",
    "    return lung_volume*0.001"
   ]
  },
  {
   "cell_type": "code",
   "execution_count": 20,
   "metadata": {
    "execution": {
     "iopub.execute_input": "2020-10-04T09:08:06.041348Z",
     "iopub.status.busy": "2020-10-04T09:08:06.039448Z",
     "iopub.status.idle": "2020-10-04T09:08:06.042187Z",
     "shell.execute_reply": "2020-10-04T09:08:06.042687Z"
    },
    "papermill": {
     "duration": 0.087975,
     "end_time": "2020-10-04T09:08:06.042842",
     "exception": false,
     "start_time": "2020-10-04T09:08:05.954867",
     "status": "completed"
    },
    "tags": []
   },
   "outputs": [],
   "source": [
    "def caculate_histgram_statistical(patient_images,patient_masks,thresh = [-600,0]):\n",
    "    \"\"\"\n",
    "    caculate hisgram kurthosis of lung hounsfield\n",
    "    Parameters: list patient CT image 512*512,thresh divide lung\n",
    "    Returns: histgram statistical characteristic(Mean,Skew,Kurthosis)\n",
    "    \"\"\"\n",
    "    statistical_characteristic = dict(Mean=0,Skew=0,Kurthosis=0)\n",
    "    num_slices = len(patient_images)\n",
    "    \n",
    "    #patient_images = patient_images[int(num_slices*0.1):int(num_slices*0.9)]\n",
    "    #patient_masks = patient_masks[int(num_slices*0.1):int(num_slices*0.9)]\n",
    "    patient_images = patient_masks*patient_images\n",
    "    patient_images_nonzero = patient_images[np.nonzero(patient_images)]\n",
    "    \n",
    "    s_pixel = patient_images_nonzero.flatten()\n",
    "    s_pixel = s_pixel[np.where((s_pixel>thresh[0])&(s_pixel<thresh[1]))]\n",
    "    \n",
    "    statistical_characteristic['Mean'] = np.mean(s_pixel)\n",
    "    statistical_characteristic['Skew'] = skew(s_pixel)\n",
    "    statistical_characteristic['Kurthosis'] = kurtosis(s_pixel)\n",
    "    \n",
    "    return statistical_characteristic"
   ]
  },
  {
   "cell_type": "code",
   "execution_count": 21,
   "metadata": {
    "execution": {
     "iopub.execute_input": "2020-10-04T09:08:06.202530Z",
     "iopub.status.busy": "2020-10-04T09:08:06.201593Z",
     "iopub.status.idle": "2020-10-04T09:08:06.234566Z",
     "shell.execute_reply": "2020-10-04T09:08:06.234045Z"
    },
    "papermill": {
     "duration": 0.118131,
     "end_time": "2020-10-04T09:08:06.234706",
     "exception": false,
     "start_time": "2020-10-04T09:08:06.116575",
     "status": "completed"
    },
    "tags": []
   },
   "outputs": [],
   "source": [
    "ROOT = \"../input/osic-pulmonary-fibrosis-progression\"\n",
    "device = torch.device('cuda')\n",
    "\n",
    "test_df = pd.read_csv(f\"{ROOT}/test.csv\")\n",
    "sample = pd.read_csv(f\"{ROOT}/sample_submission.csv\")\n",
    "sample['Patient'] = sample['Patient_Week'].apply(lambda x:x.split('_')[0])\n",
    "sample['Weeks'] = sample['Patient_Week'].apply(lambda x: int(x.split('_')[-1]))\n",
    "sample =  sample[['Patient','Weeks','Confidence','Patient_Week']]\n",
    "sampleAndTest = sample.merge(test_df.drop('Weeks', axis=1), on=\"Patient\")\n",
    "\n"
   ]
  },
  {
   "cell_type": "code",
   "execution_count": 22,
   "metadata": {
    "execution": {
     "iopub.execute_input": "2020-10-04T09:08:06.394177Z",
     "iopub.status.busy": "2020-10-04T09:08:06.393268Z",
     "iopub.status.idle": "2020-10-04T09:08:06.404520Z",
     "shell.execute_reply": "2020-10-04T09:08:06.403882Z"
    },
    "papermill": {
     "duration": 0.094914,
     "end_time": "2020-10-04T09:08:06.404624",
     "exception": false,
     "start_time": "2020-10-04T09:08:06.309710",
     "status": "completed"
    },
    "tags": []
   },
   "outputs": [
    {
     "data": {
      "text/html": [
       "<div>\n",
       "<style scoped>\n",
       "    .dataframe tbody tr th:only-of-type {\n",
       "        vertical-align: middle;\n",
       "    }\n",
       "\n",
       "    .dataframe tbody tr th {\n",
       "        vertical-align: top;\n",
       "    }\n",
       "\n",
       "    .dataframe thead th {\n",
       "        text-align: right;\n",
       "    }\n",
       "</style>\n",
       "<table border=\"1\" class=\"dataframe\">\n",
       "  <thead>\n",
       "    <tr style=\"text-align: right;\">\n",
       "      <th></th>\n",
       "      <th>Patient</th>\n",
       "      <th>Weeks</th>\n",
       "      <th>FVC</th>\n",
       "      <th>Percent</th>\n",
       "      <th>Age</th>\n",
       "      <th>Sex</th>\n",
       "      <th>SmokingStatus</th>\n",
       "    </tr>\n",
       "  </thead>\n",
       "  <tbody>\n",
       "    <tr>\n",
       "      <th>0</th>\n",
       "      <td>ID00419637202311204720264</td>\n",
       "      <td>6</td>\n",
       "      <td>3020</td>\n",
       "      <td>70.186855</td>\n",
       "      <td>73</td>\n",
       "      <td>Male</td>\n",
       "      <td>Ex-smoker</td>\n",
       "    </tr>\n",
       "    <tr>\n",
       "      <th>1</th>\n",
       "      <td>ID00421637202311550012437</td>\n",
       "      <td>15</td>\n",
       "      <td>2739</td>\n",
       "      <td>82.045291</td>\n",
       "      <td>68</td>\n",
       "      <td>Male</td>\n",
       "      <td>Ex-smoker</td>\n",
       "    </tr>\n",
       "    <tr>\n",
       "      <th>2</th>\n",
       "      <td>ID00422637202311677017371</td>\n",
       "      <td>6</td>\n",
       "      <td>1930</td>\n",
       "      <td>76.672493</td>\n",
       "      <td>73</td>\n",
       "      <td>Male</td>\n",
       "      <td>Ex-smoker</td>\n",
       "    </tr>\n",
       "    <tr>\n",
       "      <th>3</th>\n",
       "      <td>ID00423637202312137826377</td>\n",
       "      <td>17</td>\n",
       "      <td>3294</td>\n",
       "      <td>79.258903</td>\n",
       "      <td>72</td>\n",
       "      <td>Male</td>\n",
       "      <td>Ex-smoker</td>\n",
       "    </tr>\n",
       "    <tr>\n",
       "      <th>4</th>\n",
       "      <td>ID00426637202313170790466</td>\n",
       "      <td>0</td>\n",
       "      <td>2925</td>\n",
       "      <td>71.824968</td>\n",
       "      <td>73</td>\n",
       "      <td>Male</td>\n",
       "      <td>Never smoked</td>\n",
       "    </tr>\n",
       "  </tbody>\n",
       "</table>\n",
       "</div>"
      ],
      "text/plain": [
       "                     Patient  Weeks   FVC    Percent  Age   Sex SmokingStatus\n",
       "0  ID00419637202311204720264      6  3020  70.186855   73  Male     Ex-smoker\n",
       "1  ID00421637202311550012437     15  2739  82.045291   68  Male     Ex-smoker\n",
       "2  ID00422637202311677017371      6  1930  76.672493   73  Male     Ex-smoker\n",
       "3  ID00423637202312137826377     17  3294  79.258903   72  Male     Ex-smoker\n",
       "4  ID00426637202313170790466      0  2925  71.824968   73  Male  Never smoked"
      ]
     },
     "execution_count": 22,
     "metadata": {},
     "output_type": "execute_result"
    }
   ],
   "source": [
    "test_df\n"
   ]
  },
  {
   "cell_type": "code",
   "execution_count": 23,
   "metadata": {
    "execution": {
     "iopub.execute_input": "2020-10-04T09:08:06.582579Z",
     "iopub.status.busy": "2020-10-04T09:08:06.581479Z",
     "iopub.status.idle": "2020-10-04T09:08:06.597654Z",
     "shell.execute_reply": "2020-10-04T09:08:06.597099Z"
    },
    "papermill": {
     "duration": 0.108054,
     "end_time": "2020-10-04T09:08:06.597840",
     "exception": false,
     "start_time": "2020-10-04T09:08:06.489786",
     "status": "completed"
    },
    "tags": []
   },
   "outputs": [
    {
     "data": {
      "text/html": [
       "<div>\n",
       "<style scoped>\n",
       "    .dataframe tbody tr th:only-of-type {\n",
       "        vertical-align: middle;\n",
       "    }\n",
       "\n",
       "    .dataframe tbody tr th {\n",
       "        vertical-align: top;\n",
       "    }\n",
       "\n",
       "    .dataframe thead th {\n",
       "        text-align: right;\n",
       "    }\n",
       "</style>\n",
       "<table border=\"1\" class=\"dataframe\">\n",
       "  <thead>\n",
       "    <tr style=\"text-align: right;\">\n",
       "      <th></th>\n",
       "      <th>Patient</th>\n",
       "      <th>Weeks</th>\n",
       "      <th>Confidence</th>\n",
       "      <th>Patient_Week</th>\n",
       "      <th>FVC</th>\n",
       "      <th>Percent</th>\n",
       "      <th>Age</th>\n",
       "      <th>Sex</th>\n",
       "      <th>SmokingStatus</th>\n",
       "    </tr>\n",
       "  </thead>\n",
       "  <tbody>\n",
       "    <tr>\n",
       "      <th>0</th>\n",
       "      <td>ID00419637202311204720264</td>\n",
       "      <td>-12</td>\n",
       "      <td>100</td>\n",
       "      <td>ID00419637202311204720264_-12</td>\n",
       "      <td>3020</td>\n",
       "      <td>70.186855</td>\n",
       "      <td>73</td>\n",
       "      <td>Male</td>\n",
       "      <td>Ex-smoker</td>\n",
       "    </tr>\n",
       "    <tr>\n",
       "      <th>1</th>\n",
       "      <td>ID00419637202311204720264</td>\n",
       "      <td>-11</td>\n",
       "      <td>100</td>\n",
       "      <td>ID00419637202311204720264_-11</td>\n",
       "      <td>3020</td>\n",
       "      <td>70.186855</td>\n",
       "      <td>73</td>\n",
       "      <td>Male</td>\n",
       "      <td>Ex-smoker</td>\n",
       "    </tr>\n",
       "    <tr>\n",
       "      <th>2</th>\n",
       "      <td>ID00419637202311204720264</td>\n",
       "      <td>-10</td>\n",
       "      <td>100</td>\n",
       "      <td>ID00419637202311204720264_-10</td>\n",
       "      <td>3020</td>\n",
       "      <td>70.186855</td>\n",
       "      <td>73</td>\n",
       "      <td>Male</td>\n",
       "      <td>Ex-smoker</td>\n",
       "    </tr>\n",
       "    <tr>\n",
       "      <th>3</th>\n",
       "      <td>ID00419637202311204720264</td>\n",
       "      <td>-9</td>\n",
       "      <td>100</td>\n",
       "      <td>ID00419637202311204720264_-9</td>\n",
       "      <td>3020</td>\n",
       "      <td>70.186855</td>\n",
       "      <td>73</td>\n",
       "      <td>Male</td>\n",
       "      <td>Ex-smoker</td>\n",
       "    </tr>\n",
       "    <tr>\n",
       "      <th>4</th>\n",
       "      <td>ID00419637202311204720264</td>\n",
       "      <td>-8</td>\n",
       "      <td>100</td>\n",
       "      <td>ID00419637202311204720264_-8</td>\n",
       "      <td>3020</td>\n",
       "      <td>70.186855</td>\n",
       "      <td>73</td>\n",
       "      <td>Male</td>\n",
       "      <td>Ex-smoker</td>\n",
       "    </tr>\n",
       "    <tr>\n",
       "      <th>...</th>\n",
       "      <td>...</td>\n",
       "      <td>...</td>\n",
       "      <td>...</td>\n",
       "      <td>...</td>\n",
       "      <td>...</td>\n",
       "      <td>...</td>\n",
       "      <td>...</td>\n",
       "      <td>...</td>\n",
       "      <td>...</td>\n",
       "    </tr>\n",
       "    <tr>\n",
       "      <th>725</th>\n",
       "      <td>ID00426637202313170790466</td>\n",
       "      <td>129</td>\n",
       "      <td>100</td>\n",
       "      <td>ID00426637202313170790466_129</td>\n",
       "      <td>2925</td>\n",
       "      <td>71.824968</td>\n",
       "      <td>73</td>\n",
       "      <td>Male</td>\n",
       "      <td>Never smoked</td>\n",
       "    </tr>\n",
       "    <tr>\n",
       "      <th>726</th>\n",
       "      <td>ID00426637202313170790466</td>\n",
       "      <td>130</td>\n",
       "      <td>100</td>\n",
       "      <td>ID00426637202313170790466_130</td>\n",
       "      <td>2925</td>\n",
       "      <td>71.824968</td>\n",
       "      <td>73</td>\n",
       "      <td>Male</td>\n",
       "      <td>Never smoked</td>\n",
       "    </tr>\n",
       "    <tr>\n",
       "      <th>727</th>\n",
       "      <td>ID00426637202313170790466</td>\n",
       "      <td>131</td>\n",
       "      <td>100</td>\n",
       "      <td>ID00426637202313170790466_131</td>\n",
       "      <td>2925</td>\n",
       "      <td>71.824968</td>\n",
       "      <td>73</td>\n",
       "      <td>Male</td>\n",
       "      <td>Never smoked</td>\n",
       "    </tr>\n",
       "    <tr>\n",
       "      <th>728</th>\n",
       "      <td>ID00426637202313170790466</td>\n",
       "      <td>132</td>\n",
       "      <td>100</td>\n",
       "      <td>ID00426637202313170790466_132</td>\n",
       "      <td>2925</td>\n",
       "      <td>71.824968</td>\n",
       "      <td>73</td>\n",
       "      <td>Male</td>\n",
       "      <td>Never smoked</td>\n",
       "    </tr>\n",
       "    <tr>\n",
       "      <th>729</th>\n",
       "      <td>ID00426637202313170790466</td>\n",
       "      <td>133</td>\n",
       "      <td>100</td>\n",
       "      <td>ID00426637202313170790466_133</td>\n",
       "      <td>2925</td>\n",
       "      <td>71.824968</td>\n",
       "      <td>73</td>\n",
       "      <td>Male</td>\n",
       "      <td>Never smoked</td>\n",
       "    </tr>\n",
       "  </tbody>\n",
       "</table>\n",
       "<p>730 rows × 9 columns</p>\n",
       "</div>"
      ],
      "text/plain": [
       "                       Patient  Weeks  Confidence  \\\n",
       "0    ID00419637202311204720264    -12         100   \n",
       "1    ID00419637202311204720264    -11         100   \n",
       "2    ID00419637202311204720264    -10         100   \n",
       "3    ID00419637202311204720264     -9         100   \n",
       "4    ID00419637202311204720264     -8         100   \n",
       "..                         ...    ...         ...   \n",
       "725  ID00426637202313170790466    129         100   \n",
       "726  ID00426637202313170790466    130         100   \n",
       "727  ID00426637202313170790466    131         100   \n",
       "728  ID00426637202313170790466    132         100   \n",
       "729  ID00426637202313170790466    133         100   \n",
       "\n",
       "                      Patient_Week   FVC    Percent  Age   Sex SmokingStatus  \n",
       "0    ID00419637202311204720264_-12  3020  70.186855   73  Male     Ex-smoker  \n",
       "1    ID00419637202311204720264_-11  3020  70.186855   73  Male     Ex-smoker  \n",
       "2    ID00419637202311204720264_-10  3020  70.186855   73  Male     Ex-smoker  \n",
       "3     ID00419637202311204720264_-9  3020  70.186855   73  Male     Ex-smoker  \n",
       "4     ID00419637202311204720264_-8  3020  70.186855   73  Male     Ex-smoker  \n",
       "..                             ...   ...        ...  ...   ...           ...  \n",
       "725  ID00426637202313170790466_129  2925  71.824968   73  Male  Never smoked  \n",
       "726  ID00426637202313170790466_130  2925  71.824968   73  Male  Never smoked  \n",
       "727  ID00426637202313170790466_131  2925  71.824968   73  Male  Never smoked  \n",
       "728  ID00426637202313170790466_132  2925  71.824968   73  Male  Never smoked  \n",
       "729  ID00426637202313170790466_133  2925  71.824968   73  Male  Never smoked  \n",
       "\n",
       "[730 rows x 9 columns]"
      ]
     },
     "execution_count": 23,
     "metadata": {},
     "output_type": "execute_result"
    }
   ],
   "source": [
    "sampleAndTest"
   ]
  },
  {
   "cell_type": "code",
   "execution_count": 24,
   "metadata": {
    "execution": {
     "iopub.execute_input": "2020-10-04T09:08:06.760033Z",
     "iopub.status.busy": "2020-10-04T09:08:06.759313Z",
     "iopub.status.idle": "2020-10-04T09:08:06.762808Z",
     "shell.execute_reply": "2020-10-04T09:08:06.763276Z"
    },
    "papermill": {
     "duration": 0.083948,
     "end_time": "2020-10-04T09:08:06.763390",
     "exception": false,
     "start_time": "2020-10-04T09:08:06.679442",
     "status": "completed"
    },
    "tags": []
   },
   "outputs": [
    {
     "data": {
      "text/plain": [
       "(730, 9)"
      ]
     },
     "execution_count": 24,
     "metadata": {},
     "output_type": "execute_result"
    }
   ],
   "source": [
    "sampleAndTest.shape\n"
   ]
  },
  {
   "cell_type": "code",
   "execution_count": 25,
   "metadata": {
    "execution": {
     "iopub.execute_input": "2020-10-04T09:08:06.924396Z",
     "iopub.status.busy": "2020-10-04T09:08:06.923589Z",
     "iopub.status.idle": "2020-10-04T09:08:06.927553Z",
     "shell.execute_reply": "2020-10-04T09:08:06.927046Z"
    },
    "papermill": {
     "duration": 0.089236,
     "end_time": "2020-10-04T09:08:06.927653",
     "exception": false,
     "start_time": "2020-10-04T09:08:06.838417",
     "status": "completed"
    },
    "tags": []
   },
   "outputs": [],
   "source": [
    "class Inference_Generate(Dataset):\n",
    "    def __init__(self,imgs_dicom):\n",
    "        self.imgs_dicom = imgs_dicom\n",
    "        \n",
    "    def __getitem__(self,index):\n",
    "        metainf = self.imgs_dicom[index]\n",
    "        slice_img = metainf.pixel_array\n",
    "        slice_img = (slice_img-slice_img.min())/(slice_img.max()-slice_img.min())\n",
    "        slice_img = (slice_img*255).astype(np.uint8)\n",
    "        if metainf.Rows!=512 or metainf.Columns!=512:\n",
    "            slice_img = cv2.resize(slice_img,(512,512))\n",
    "            \n",
    "        slice_img = slice_img[None,:,:]\n",
    "        slice_img = (slice_img/255).astype(np.float32)\n",
    "        return slice_img\n",
    "        \n",
    "    def __len__(self):\n",
    "        return len(self.imgs_dicom)"
   ]
  },
  {
   "cell_type": "code",
   "execution_count": 26,
   "metadata": {
    "execution": {
     "iopub.execute_input": "2020-10-04T09:08:07.138533Z",
     "iopub.status.busy": "2020-10-04T09:08:07.137468Z",
     "iopub.status.idle": "2020-10-04T09:08:42.495670Z",
     "shell.execute_reply": "2020-10-04T09:08:42.497140Z"
    },
    "papermill": {
     "duration": 35.455936,
     "end_time": "2020-10-04T09:08:42.497371",
     "exception": false,
     "start_time": "2020-10-04T09:08:07.041435",
     "status": "completed"
    },
    "tags": []
   },
   "outputs": [],
   "source": [
    "\n",
    "thresh = [-500,0]\n",
    "ct_root_path = '../input/osic-pulmonary-fibrosis-progression/test/'\n",
    "lung_test_feature = pd.DataFrame(columns=['Patient','Volume','Mean','Skew','Kurthosis'])\n",
    "for idx,i in enumerate(pd.unique(test_df['Patient'])):\n",
    "    lung_test_feature.loc[idx,'Patient'] = i\n",
    "    patient_scans = load_scan(ct_root_path + i)\n",
    "    test_db = Inference_Generate(patient_scans)\n",
    "    test_loader = DataLoader(test_db, batch_size=batch, shuffle=False, num_workers=4)\n",
    "    masks = Unet_mask(model,test_loader)\n",
    "    \n",
    "    patient_images = transform_to_hu(patient_scans)\n",
    "  \n",
    "    if patient_images[0].shape!=(512,512):\n",
    "        patient_images = preprocess_img(patient_images,'resize')\n",
    "  \n",
    "    lung_test_feature.loc[idx,'Volume'] = caculate_lung_volume(patient_scans,masks)     \n",
    "    statistical_characteristic = caculate_histgram_statistical(patient_images,masks,thresh)\n",
    "    lung_test_feature.loc[idx,'Mean'] = statistical_characteristic['Mean']\n",
    "    lung_test_feature.loc[idx,'Skew'] = statistical_characteristic['Skew']\n",
    "    lung_test_feature.loc[idx,'Kurthosis'] = statistical_characteristic['Kurthosis']\n"
   ]
  },
  {
   "cell_type": "code",
   "execution_count": 27,
   "metadata": {
    "execution": {
     "iopub.execute_input": "2020-10-04T09:08:42.669497Z",
     "iopub.status.busy": "2020-10-04T09:08:42.668120Z",
     "iopub.status.idle": "2020-10-04T09:08:42.672020Z",
     "shell.execute_reply": "2020-10-04T09:08:42.672485Z"
    },
    "papermill": {
     "duration": 0.095887,
     "end_time": "2020-10-04T09:08:42.672604",
     "exception": false,
     "start_time": "2020-10-04T09:08:42.576717",
     "status": "completed"
    },
    "tags": []
   },
   "outputs": [
    {
     "data": {
      "text/html": [
       "<div>\n",
       "<style scoped>\n",
       "    .dataframe tbody tr th:only-of-type {\n",
       "        vertical-align: middle;\n",
       "    }\n",
       "\n",
       "    .dataframe tbody tr th {\n",
       "        vertical-align: top;\n",
       "    }\n",
       "\n",
       "    .dataframe thead th {\n",
       "        text-align: right;\n",
       "    }\n",
       "</style>\n",
       "<table border=\"1\" class=\"dataframe\">\n",
       "  <thead>\n",
       "    <tr style=\"text-align: right;\">\n",
       "      <th></th>\n",
       "      <th>Patient</th>\n",
       "      <th>Volume</th>\n",
       "      <th>Mean</th>\n",
       "      <th>Skew</th>\n",
       "      <th>Kurthosis</th>\n",
       "    </tr>\n",
       "  </thead>\n",
       "  <tbody>\n",
       "    <tr>\n",
       "      <th>0</th>\n",
       "      <td>ID00419637202311204720264</td>\n",
       "      <td>1246.52</td>\n",
       "      <td>-273.67</td>\n",
       "      <td>0.209798</td>\n",
       "      <td>-1.27669</td>\n",
       "    </tr>\n",
       "    <tr>\n",
       "      <th>1</th>\n",
       "      <td>ID00421637202311550012437</td>\n",
       "      <td>2073.8</td>\n",
       "      <td>-295.332</td>\n",
       "      <td>0.396581</td>\n",
       "      <td>-1.04897</td>\n",
       "    </tr>\n",
       "    <tr>\n",
       "      <th>2</th>\n",
       "      <td>ID00422637202311677017371</td>\n",
       "      <td>2719.8</td>\n",
       "      <td>-274.551</td>\n",
       "      <td>0.21486</td>\n",
       "      <td>-1.2047</td>\n",
       "    </tr>\n",
       "    <tr>\n",
       "      <th>3</th>\n",
       "      <td>ID00423637202312137826377</td>\n",
       "      <td>3648.07</td>\n",
       "      <td>-300.086</td>\n",
       "      <td>0.431717</td>\n",
       "      <td>-0.995569</td>\n",
       "    </tr>\n",
       "    <tr>\n",
       "      <th>4</th>\n",
       "      <td>ID00426637202313170790466</td>\n",
       "      <td>4231.57</td>\n",
       "      <td>-298.059</td>\n",
       "      <td>0.443857</td>\n",
       "      <td>-0.995779</td>\n",
       "    </tr>\n",
       "  </tbody>\n",
       "</table>\n",
       "</div>"
      ],
      "text/plain": [
       "                     Patient   Volume     Mean      Skew Kurthosis\n",
       "0  ID00419637202311204720264  1246.52  -273.67  0.209798  -1.27669\n",
       "1  ID00421637202311550012437   2073.8 -295.332  0.396581  -1.04897\n",
       "2  ID00422637202311677017371   2719.8 -274.551   0.21486   -1.2047\n",
       "3  ID00423637202312137826377  3648.07 -300.086  0.431717 -0.995569\n",
       "4  ID00426637202313170790466  4231.57 -298.059  0.443857 -0.995779"
      ]
     },
     "execution_count": 27,
     "metadata": {},
     "output_type": "execute_result"
    }
   ],
   "source": [
    "lung_test_feature.head()"
   ]
  },
  {
   "cell_type": "code",
   "execution_count": 28,
   "metadata": {
    "execution": {
     "iopub.execute_input": "2020-10-04T09:08:42.846986Z",
     "iopub.status.busy": "2020-10-04T09:08:42.832844Z",
     "iopub.status.idle": "2020-10-04T09:08:42.860734Z",
     "shell.execute_reply": "2020-10-04T09:08:42.861314Z"
    },
    "papermill": {
     "duration": 0.113076,
     "end_time": "2020-10-04T09:08:42.861443",
     "exception": false,
     "start_time": "2020-10-04T09:08:42.748367",
     "status": "completed"
    },
    "tags": []
   },
   "outputs": [
    {
     "data": {
      "text/html": [
       "<div>\n",
       "<style scoped>\n",
       "    .dataframe tbody tr th:only-of-type {\n",
       "        vertical-align: middle;\n",
       "    }\n",
       "\n",
       "    .dataframe tbody tr th {\n",
       "        vertical-align: top;\n",
       "    }\n",
       "\n",
       "    .dataframe thead th {\n",
       "        text-align: right;\n",
       "    }\n",
       "</style>\n",
       "<table border=\"1\" class=\"dataframe\">\n",
       "  <thead>\n",
       "    <tr style=\"text-align: right;\">\n",
       "      <th></th>\n",
       "      <th>Patient</th>\n",
       "      <th>Weeks</th>\n",
       "      <th>Confidence</th>\n",
       "      <th>Patient_Week</th>\n",
       "      <th>FVC</th>\n",
       "      <th>Percent</th>\n",
       "      <th>Age</th>\n",
       "      <th>Sex</th>\n",
       "      <th>SmokingStatus</th>\n",
       "      <th>Volume</th>\n",
       "      <th>Mean</th>\n",
       "      <th>Skew</th>\n",
       "      <th>Kurthosis</th>\n",
       "      <th>WHERE</th>\n",
       "    </tr>\n",
       "  </thead>\n",
       "  <tbody>\n",
       "    <tr>\n",
       "      <th>0</th>\n",
       "      <td>ID00419637202311204720264</td>\n",
       "      <td>-12</td>\n",
       "      <td>100</td>\n",
       "      <td>ID00419637202311204720264_-12</td>\n",
       "      <td>3020</td>\n",
       "      <td>70.186855</td>\n",
       "      <td>73</td>\n",
       "      <td>Male</td>\n",
       "      <td>Ex-smoker</td>\n",
       "      <td>1246.52</td>\n",
       "      <td>-273.67</td>\n",
       "      <td>0.209798</td>\n",
       "      <td>-1.27669</td>\n",
       "      <td>test</td>\n",
       "    </tr>\n",
       "    <tr>\n",
       "      <th>1</th>\n",
       "      <td>ID00419637202311204720264</td>\n",
       "      <td>-11</td>\n",
       "      <td>100</td>\n",
       "      <td>ID00419637202311204720264_-11</td>\n",
       "      <td>3020</td>\n",
       "      <td>70.186855</td>\n",
       "      <td>73</td>\n",
       "      <td>Male</td>\n",
       "      <td>Ex-smoker</td>\n",
       "      <td>1246.52</td>\n",
       "      <td>-273.67</td>\n",
       "      <td>0.209798</td>\n",
       "      <td>-1.27669</td>\n",
       "      <td>test</td>\n",
       "    </tr>\n",
       "    <tr>\n",
       "      <th>2</th>\n",
       "      <td>ID00419637202311204720264</td>\n",
       "      <td>-10</td>\n",
       "      <td>100</td>\n",
       "      <td>ID00419637202311204720264_-10</td>\n",
       "      <td>3020</td>\n",
       "      <td>70.186855</td>\n",
       "      <td>73</td>\n",
       "      <td>Male</td>\n",
       "      <td>Ex-smoker</td>\n",
       "      <td>1246.52</td>\n",
       "      <td>-273.67</td>\n",
       "      <td>0.209798</td>\n",
       "      <td>-1.27669</td>\n",
       "      <td>test</td>\n",
       "    </tr>\n",
       "    <tr>\n",
       "      <th>3</th>\n",
       "      <td>ID00419637202311204720264</td>\n",
       "      <td>-9</td>\n",
       "      <td>100</td>\n",
       "      <td>ID00419637202311204720264_-9</td>\n",
       "      <td>3020</td>\n",
       "      <td>70.186855</td>\n",
       "      <td>73</td>\n",
       "      <td>Male</td>\n",
       "      <td>Ex-smoker</td>\n",
       "      <td>1246.52</td>\n",
       "      <td>-273.67</td>\n",
       "      <td>0.209798</td>\n",
       "      <td>-1.27669</td>\n",
       "      <td>test</td>\n",
       "    </tr>\n",
       "    <tr>\n",
       "      <th>4</th>\n",
       "      <td>ID00419637202311204720264</td>\n",
       "      <td>-8</td>\n",
       "      <td>100</td>\n",
       "      <td>ID00419637202311204720264_-8</td>\n",
       "      <td>3020</td>\n",
       "      <td>70.186855</td>\n",
       "      <td>73</td>\n",
       "      <td>Male</td>\n",
       "      <td>Ex-smoker</td>\n",
       "      <td>1246.52</td>\n",
       "      <td>-273.67</td>\n",
       "      <td>0.209798</td>\n",
       "      <td>-1.27669</td>\n",
       "      <td>test</td>\n",
       "    </tr>\n",
       "  </tbody>\n",
       "</table>\n",
       "</div>"
      ],
      "text/plain": [
       "                     Patient  Weeks  Confidence  \\\n",
       "0  ID00419637202311204720264    -12         100   \n",
       "1  ID00419637202311204720264    -11         100   \n",
       "2  ID00419637202311204720264    -10         100   \n",
       "3  ID00419637202311204720264     -9         100   \n",
       "4  ID00419637202311204720264     -8         100   \n",
       "\n",
       "                    Patient_Week   FVC    Percent  Age   Sex SmokingStatus  \\\n",
       "0  ID00419637202311204720264_-12  3020  70.186855   73  Male     Ex-smoker   \n",
       "1  ID00419637202311204720264_-11  3020  70.186855   73  Male     Ex-smoker   \n",
       "2  ID00419637202311204720264_-10  3020  70.186855   73  Male     Ex-smoker   \n",
       "3   ID00419637202311204720264_-9  3020  70.186855   73  Male     Ex-smoker   \n",
       "4   ID00419637202311204720264_-8  3020  70.186855   73  Male     Ex-smoker   \n",
       "\n",
       "    Volume    Mean      Skew Kurthosis WHERE  \n",
       "0  1246.52 -273.67  0.209798  -1.27669  test  \n",
       "1  1246.52 -273.67  0.209798  -1.27669  test  \n",
       "2  1246.52 -273.67  0.209798  -1.27669  test  \n",
       "3  1246.52 -273.67  0.209798  -1.27669  test  \n",
       "4  1246.52 -273.67  0.209798  -1.27669  test  "
      ]
     },
     "execution_count": 28,
     "metadata": {},
     "output_type": "execute_result"
    }
   ],
   "source": [
    "\n",
    "test_df2 = test_df.merge(lung_test_feature, on='Patient')\n",
    "sampleAndTestAndLungs = sampleAndTest.merge(lung_test_feature, on='Patient')\n",
    "\n",
    "\n",
    "sampleAndTestAndLungs['WHERE'] = 'test'\n",
    "data = sampleAndTestAndLungs\n",
    "\n",
    "data.head()\n"
   ]
  },
  {
   "cell_type": "code",
   "execution_count": 29,
   "metadata": {
    "execution": {
     "iopub.execute_input": "2020-10-04T09:08:43.035147Z",
     "iopub.status.busy": "2020-10-04T09:08:43.034388Z",
     "iopub.status.idle": "2020-10-04T09:08:43.037966Z",
     "shell.execute_reply": "2020-10-04T09:08:43.038426Z"
    },
    "papermill": {
     "duration": 0.09301,
     "end_time": "2020-10-04T09:08:43.038547",
     "exception": false,
     "start_time": "2020-10-04T09:08:42.945537",
     "status": "completed"
    },
    "tags": []
   },
   "outputs": [
    {
     "data": {
      "text/plain": [
       "((730, 14), (730, 14))"
      ]
     },
     "execution_count": 29,
     "metadata": {},
     "output_type": "execute_result"
    }
   ],
   "source": [
    "sampleAndTestAndLungs.shape, data.shape"
   ]
  },
  {
   "cell_type": "code",
   "execution_count": 30,
   "metadata": {
    "execution": {
     "iopub.execute_input": "2020-10-04T09:08:43.222601Z",
     "iopub.status.busy": "2020-10-04T09:08:43.215570Z",
     "iopub.status.idle": "2020-10-04T09:08:43.294075Z",
     "shell.execute_reply": "2020-10-04T09:08:43.294557Z"
    },
    "papermill": {
     "duration": 0.177445,
     "end_time": "2020-10-04T09:08:43.294700",
     "exception": false,
     "start_time": "2020-10-04T09:08:43.117255",
     "status": "completed"
    },
    "tags": []
   },
   "outputs": [],
   "source": [
    "\n",
    "data['min_week'] = data['Weeks']\n",
    "data.loc[data.WHERE=='test','min_week'] = np.nan\n",
    "data['min_week'] = data.groupby('Patient')['min_week'].transform('min')\n",
    "data['min_week']=np.nan\n",
    "base = (data\n",
    "    .loc[data.Weeks == data.min_week][['Patient','FVC']]\n",
    "    .rename({'FVC': 'min_FVC'}, axis=1)\n",
    "    .groupby('Patient')\n",
    "    .first()\n",
    "    .reset_index())\n",
    "\n",
    "data = data.merge(base, on='Patient', how='left')\n",
    "data['base_week'] = data['Weeks'] - data['min_week']\n",
    "del base\n",
    "\n",
    "FE = list(data.Sex.unique()) + list(data.SmokingStatus.unique())\n",
    "#data = pd.concat([\n",
    " #   data,\n",
    "  #  pd.get_dummies(data.Sex)\n",
    "#], axis=1)\n",
    "\n",
    "data.loc[data.Sex == 'Male','Male']=1\n",
    "data.loc[data.Sex == 'Female','Male']=0\n",
    "data.loc[data.SmokingStatus == 'Never smoked','smoke_1']=0\n",
    "data.loc[data.SmokingStatus == 'Never smoked','smoke_2']=0\n",
    "data.loc[data.SmokingStatus == 'Ex-smoker','smoke_1']=1\n",
    "data.loc[data.SmokingStatus == 'Ex-smoker','smoke_2']=1\n",
    "data.loc[data.SmokingStatus == 'Currently smokes','smoke_1']=0\n",
    "data.loc[data.SmokingStatus == 'Currently smokes','smoke_2']=1\n",
    "\n",
    "\n",
    "data['age'] = (data['Age'] - 30) / 30\n",
    "data['BASE'] = (data['min_FVC'] - data['min_FVC'].min() ) / ( data['min_FVC'].max() - data['min_FVC'].min())\n",
    "data['week'] = (data['base_week'] - data['base_week'].min() ) / ( data['base_week'].max() - data['base_week'].min() )\n",
    "data['percent'] = (data['Percent'] - data['Percent'].min() ) / ( data['Percent'].max() - data['Percent'].min())\n",
    "\n",
    "data['volume'] = (data['Volume'] - v_mean)/v_stdev\n",
    "data['mean'] = (data['Mean'] - hMean_mean)/hMean_stdev\n",
    "data['skew'] = (data['Skew'] - hSkew_mean)/hSkew_stdev\n",
    "data['kurthosis'] = (data['Kurthosis'] - hKurt_mean)/hKurt_stdev\n",
    "\n",
    "#FE += ['age','percent','week','BASE','volume','mean','skew','kurthosis']\n",
    "\n"
   ]
  },
  {
   "cell_type": "code",
   "execution_count": 31,
   "metadata": {
    "execution": {
     "iopub.execute_input": "2020-10-04T09:08:43.455613Z",
     "iopub.status.busy": "2020-10-04T09:08:43.454971Z",
     "iopub.status.idle": "2020-10-04T09:08:43.460826Z",
     "shell.execute_reply": "2020-10-04T09:08:43.461261Z"
    },
    "papermill": {
     "duration": 0.08845,
     "end_time": "2020-10-04T09:08:43.461409",
     "exception": false,
     "start_time": "2020-10-04T09:08:43.372959",
     "status": "completed"
    },
    "tags": []
   },
   "outputs": [
    {
     "data": {
      "text/plain": [
       "(730, 28)"
      ]
     },
     "execution_count": 31,
     "metadata": {},
     "output_type": "execute_result"
    }
   ],
   "source": [
    "data.shape"
   ]
  },
  {
   "cell_type": "code",
   "execution_count": 32,
   "metadata": {
    "execution": {
     "iopub.execute_input": "2020-10-04T09:08:43.630425Z",
     "iopub.status.busy": "2020-10-04T09:08:43.629745Z",
     "iopub.status.idle": "2020-10-04T09:08:43.634109Z",
     "shell.execute_reply": "2020-10-04T09:08:43.633467Z"
    },
    "papermill": {
     "duration": 0.094207,
     "end_time": "2020-10-04T09:08:43.634243",
     "exception": false,
     "start_time": "2020-10-04T09:08:43.540036",
     "status": "completed"
    },
    "tags": []
   },
   "outputs": [],
   "source": [
    "FE_my = ['Patient','age','volume','mean','skew','kurthosis', 'Male', 'smoke_1', 'smoke_2']"
   ]
  },
  {
   "cell_type": "code",
   "execution_count": 33,
   "metadata": {
    "execution": {
     "iopub.execute_input": "2020-10-04T09:08:43.799988Z",
     "iopub.status.busy": "2020-10-04T09:08:43.799117Z",
     "iopub.status.idle": "2020-10-04T09:08:43.803848Z",
     "shell.execute_reply": "2020-10-04T09:08:43.803352Z"
    },
    "papermill": {
     "duration": 0.089163,
     "end_time": "2020-10-04T09:08:43.803984",
     "exception": false,
     "start_time": "2020-10-04T09:08:43.714821",
     "status": "completed"
    },
    "tags": []
   },
   "outputs": [],
   "source": [
    "temp = data.loc[data.WHERE=='test']"
   ]
  },
  {
   "cell_type": "code",
   "execution_count": 34,
   "metadata": {
    "execution": {
     "iopub.execute_input": "2020-10-04T09:08:43.965970Z",
     "iopub.status.busy": "2020-10-04T09:08:43.965220Z",
     "iopub.status.idle": "2020-10-04T09:08:43.968456Z",
     "shell.execute_reply": "2020-10-04T09:08:43.967942Z"
    },
    "papermill": {
     "duration": 0.086351,
     "end_time": "2020-10-04T09:08:43.968573",
     "exception": false,
     "start_time": "2020-10-04T09:08:43.882222",
     "status": "completed"
    },
    "tags": []
   },
   "outputs": [],
   "source": [
    "test = temp[FE_my]"
   ]
  },
  {
   "cell_type": "code",
   "execution_count": 35,
   "metadata": {
    "execution": {
     "iopub.execute_input": "2020-10-04T09:08:44.131185Z",
     "iopub.status.busy": "2020-10-04T09:08:44.130284Z",
     "iopub.status.idle": "2020-10-04T09:08:44.133817Z",
     "shell.execute_reply": "2020-10-04T09:08:44.134359Z"
    },
    "papermill": {
     "duration": 0.087655,
     "end_time": "2020-10-04T09:08:44.134482",
     "exception": false,
     "start_time": "2020-10-04T09:08:44.046827",
     "status": "completed"
    },
    "tags": []
   },
   "outputs": [
    {
     "data": {
      "text/plain": [
       "(730, 9)"
      ]
     },
     "execution_count": 35,
     "metadata": {},
     "output_type": "execute_result"
    }
   ],
   "source": [
    "test.shape"
   ]
  },
  {
   "cell_type": "code",
   "execution_count": 36,
   "metadata": {
    "execution": {
     "iopub.execute_input": "2020-10-04T09:08:44.303965Z",
     "iopub.status.busy": "2020-10-04T09:08:44.302946Z",
     "iopub.status.idle": "2020-10-04T09:08:44.306001Z",
     "shell.execute_reply": "2020-10-04T09:08:44.305453Z"
    },
    "papermill": {
     "duration": 0.09209,
     "end_time": "2020-10-04T09:08:44.306111",
     "exception": false,
     "start_time": "2020-10-04T09:08:44.214021",
     "status": "completed"
    },
    "tags": []
   },
   "outputs": [],
   "source": [
    "batch_s = 128\n",
    "class Data_Generate(Dataset):\n",
    "    def __init__(self,data,label=None):\n",
    "        self.data = data\n",
    "        self.label = label\n",
    "        \n",
    "    def __getitem__(self,index):\n",
    "        z_ = self.data[index]\n",
    "        if self.label is not None:\n",
    "            y_ = self.label[index]\n",
    "            y_ = y_[None,]\n",
    "            return z_,y_\n",
    "        else:\n",
    "            return z_\n",
    "         \n",
    "    def __len__(self):\n",
    "        return len(self.data)"
   ]
  },
  {
   "cell_type": "code",
   "execution_count": 37,
   "metadata": {
    "execution": {
     "iopub.execute_input": "2020-10-04T09:08:44.469265Z",
     "iopub.status.busy": "2020-10-04T09:08:44.468440Z",
     "iopub.status.idle": "2020-10-04T09:08:44.471487Z",
     "shell.execute_reply": "2020-10-04T09:08:44.470893Z"
    },
    "papermill": {
     "duration": 0.086196,
     "end_time": "2020-10-04T09:08:44.471597",
     "exception": false,
     "start_time": "2020-10-04T09:08:44.385401",
     "status": "completed"
    },
    "tags": []
   },
   "outputs": [],
   "source": [
    "test_tab= test.copy()"
   ]
  },
  {
   "cell_type": "code",
   "execution_count": 38,
   "metadata": {
    "execution": {
     "iopub.execute_input": "2020-10-04T09:08:44.638055Z",
     "iopub.status.busy": "2020-10-04T09:08:44.636639Z",
     "iopub.status.idle": "2020-10-04T09:08:44.640319Z",
     "shell.execute_reply": "2020-10-04T09:08:44.639611Z"
    },
    "papermill": {
     "duration": 0.089275,
     "end_time": "2020-10-04T09:08:44.640476",
     "exception": false,
     "start_time": "2020-10-04T09:08:44.551201",
     "status": "completed"
    },
    "tags": []
   },
   "outputs": [],
   "source": [
    "def get_img2(path):\n",
    "    d = pydicom.dcmread(path)\n",
    "    d_ia = d.pixel_array\n",
    "    d_ia[d_ia<= -1000.0] = 0\n",
    "    return cv2.resize((d_ia*d.RescaleSlope + d.RescaleIntercept), (512, 512))"
   ]
  },
  {
   "cell_type": "markdown",
   "metadata": {
    "papermill": {
     "duration": 0.07786,
     "end_time": "2020-10-04T09:08:44.797667",
     "exception": false,
     "start_time": "2020-10-04T09:08:44.719807",
     "status": "completed"
    },
    "tags": []
   },
   "source": [
    "# Inference with trained Effnet model \n",
    "\n",
    "I've turned off the validation steps in the below and gone straight to the test set."
   ]
  },
  {
   "cell_type": "code",
   "execution_count": 39,
   "metadata": {
    "execution": {
     "iopub.execute_input": "2020-10-04T09:08:44.982088Z",
     "iopub.status.busy": "2020-10-04T09:08:44.981167Z",
     "iopub.status.idle": "2020-10-04T09:09:06.850009Z",
     "shell.execute_reply": "2020-10-04T09:09:06.849442Z"
    },
    "papermill": {
     "duration": 21.971466,
     "end_time": "2020-10-04T09:09:06.850130",
     "exception": false,
     "start_time": "2020-10-04T09:08:44.878664",
     "status": "completed"
    },
    "tags": []
   },
   "outputs": [
    {
     "name": "stdout",
     "output_type": "stream",
     "text": [
      "doing predictions on patient ID00419637202311204720264\n",
      "doing predictions on patient ID00421637202311550012437\n",
      "doing predictions on patient ID00422637202311677017371\n",
      "doing predictions on patient ID00423637202312137826377\n",
      "doing predictions on patient ID00426637202313170790466\n"
     ]
    }
   ],
   "source": [
    "\n",
    "subs = []\n",
    "\n",
    "for model in models:\n",
    "    \"\"\"\n",
    "    metric = []\n",
    "    for q in tqdm(range(1, 10)):\n",
    "        m = []\n",
    "        for p in vl_p:\n",
    "            x = [] \n",
    "            tab = [] \n",
    "\n",
    "            if p in ['ID00011637202177653955184', 'ID00052637202186188008618']:\n",
    "                continue\n",
    "\n",
    "            #print('doing predictions on validation set patient {}'.format(p))\n",
    "            ldir = os.listdir(f'../input/osic-pulmonary-fibrosis-progression/train/{p}/')\n",
    "            for i in ldir:\n",
    "                if int(i[:-4]) / len(ldir) < 0.6 and int(i[:-4]) / len(ldir) > 0.3:\n",
    "                    x.append(get_img2(f'../input/osic-pulmonary-fibrosis-progression/train/{p}/{i}')) \n",
    "                    tab.append(get_tab2(hist.loc[hist.Patient == p, :])) \n",
    "                    #print(tab)\n",
    "            if len(x) < 1:\n",
    "                continue\n",
    "            tab = np.array(tab) \n",
    "\n",
    "            x = np.expand_dims(x, axis=-1) \n",
    "            _a = model.predict([x, tab]) \n",
    "            a = np.quantile(_a, q / 10)\n",
    "\n",
    "            percent_true = train.Percent.values[train.Patient == p]\n",
    "            fvc_true = train.FVC.values[train.Patient == p]\n",
    "            weeks_true = train.Weeks.values[train.Patient == p]\n",
    "\n",
    "            fvc = a * (weeks_true - weeks_true[0]) + fvc_true[0]\n",
    "            percent = percent_true[0] - a * abs(weeks_true - weeks_true[0])\n",
    "            m.append(score(fvc_true, fvc, percent))\n",
    "            \n",
    "        print(np.mean(m))\n",
    "        metric.append(np.mean(m))\n",
    "\n",
    "    q = (np.argmin(metric) + 1)/ 10\n",
    "    print(q)\n",
    "    \"\"\"  \n",
    "    q=0.3\n",
    "    sub = pd.read_csv('../input/osic-pulmonary-fibrosis-progression/sample_submission.csv') \n",
    "    test = pd.read_csv('../input/osic-pulmonary-fibrosis-progression/test.csv') \n",
    "    A_test, B_test, P_test,W, FVC= {}, {}, {},{},{} \n",
    "    STD, WEEK = {}, {} \n",
    "    for p in test.Patient.unique():\n",
    "        print('doing predictions on patient {}'.format(p))\n",
    "        x = [] \n",
    "        tab = [] \n",
    "        ldir = os.listdir(f'../input/osic-pulmonary-fibrosis-progression/test/{p}/')\n",
    "        for i in ldir:\n",
    "            if int(i[:-4]) / len(ldir) < 0.8 and int(i[:-4]) / len(ldir) > 0.15:\n",
    "                x.append(get_img2(f'../input/osic-pulmonary-fibrosis-progression/test/{p}/{i}')) \n",
    "                #tab.append(get_tab(test.loc[test.Patient == p, :])) \n",
    "                rows=test_tab.loc[test_tab.Patient== p, :]\n",
    "                vector = rows.iloc[0,1:9].values\n",
    "                vector=np.array(vector,dtype=np.float) \n",
    "                tab.append(vector)\n",
    "                #print(tab)\n",
    "        if len(x) <= 1:\n",
    "            continue\n",
    "        tab = np.array(tab) \n",
    "\n",
    "        x = np.expand_dims(x, axis=-1) \n",
    "        _a = model.predict([x, tab]) \n",
    "        a = np.quantile(_a, q)\n",
    "        A_test[p] = a\n",
    "        B_test[p] = test.FVC.values[test.Patient == p] - a*test.Weeks.values[test.Patient == p]\n",
    "        P_test[p] = test.Percent.values[test.Patient == p] \n",
    "        WEEK[p] = test.Weeks.values[test.Patient == p]\n",
    "\n",
    "    for k in sub.Patient_Week.values:\n",
    "        p, w = k.split('_')\n",
    "        w = int(w) \n",
    "\n",
    "        fvc = A_test[p] * w + B_test[p]\n",
    "        sub.loc[sub.Patient_Week == k, 'FVC'] = fvc\n",
    "        sub.loc[sub.Patient_Week == k, 'Confidence'] = (\n",
    "            P_test[p] - A_test[p] * abs(WEEK[p] - w) \n",
    "    ) \n",
    "\n",
    "    _sub = sub[[\"Patient_Week\",\"FVC\",\"Confidence\"]].copy()\n",
    "    subs.append(_sub)\n",
    "\n"
   ]
  },
  {
   "cell_type": "markdown",
   "metadata": {
    "papermill": {
     "duration": 0.085011,
     "end_time": "2020-10-04T09:09:07.021866",
     "exception": false,
     "start_time": "2020-10-04T09:09:06.936855",
     "status": "completed"
    },
    "tags": []
   },
   "source": [
    "## 4.1 Average prediction <a class=\"anchor\" id=\"4.1\"></a>\n",
    "\n",
    "[Back to Table of Contents](#0.1)"
   ]
  },
  {
   "cell_type": "code",
   "execution_count": 40,
   "metadata": {
    "execution": {
     "iopub.execute_input": "2020-10-04T09:09:07.206655Z",
     "iopub.status.busy": "2020-10-04T09:09:07.205642Z",
     "iopub.status.idle": "2020-10-04T09:09:07.209035Z",
     "shell.execute_reply": "2020-10-04T09:09:07.210025Z"
    },
    "papermill": {
     "duration": 0.100887,
     "end_time": "2020-10-04T09:09:07.210155",
     "exception": false,
     "start_time": "2020-10-04T09:09:07.109268",
     "status": "completed"
    },
    "tags": []
   },
   "outputs": [],
   "source": [
    "\n",
    "N = len(subs)\n",
    "sub = subs[0].copy() # ref\n",
    "sub[\"FVC\"] = 0\n",
    "sub[\"Confidence\"] = 0\n",
    "for i in range(N):\n",
    "    sub[\"FVC\"] += subs[0][\"FVC\"] * (1/N)\n",
    "    sub[\"Confidence\"] += subs[0][\"Confidence\"] * (1/N)\n"
   ]
  },
  {
   "cell_type": "code",
   "execution_count": 41,
   "metadata": {
    "execution": {
     "iopub.execute_input": "2020-10-04T09:09:07.393464Z",
     "iopub.status.busy": "2020-10-04T09:09:07.392286Z",
     "iopub.status.idle": "2020-10-04T09:09:07.397858Z",
     "shell.execute_reply": "2020-10-04T09:09:07.397181Z"
    },
    "papermill": {
     "duration": 0.102152,
     "end_time": "2020-10-04T09:09:07.397990",
     "exception": false,
     "start_time": "2020-10-04T09:09:07.295838",
     "status": "completed"
    },
    "tags": []
   },
   "outputs": [
    {
     "data": {
      "text/html": [
       "<div>\n",
       "<style scoped>\n",
       "    .dataframe tbody tr th:only-of-type {\n",
       "        vertical-align: middle;\n",
       "    }\n",
       "\n",
       "    .dataframe tbody tr th {\n",
       "        vertical-align: top;\n",
       "    }\n",
       "\n",
       "    .dataframe thead th {\n",
       "        text-align: right;\n",
       "    }\n",
       "</style>\n",
       "<table border=\"1\" class=\"dataframe\">\n",
       "  <thead>\n",
       "    <tr style=\"text-align: right;\">\n",
       "      <th></th>\n",
       "      <th>Patient_Week</th>\n",
       "      <th>FVC</th>\n",
       "      <th>Confidence</th>\n",
       "    </tr>\n",
       "  </thead>\n",
       "  <tbody>\n",
       "    <tr>\n",
       "      <th>0</th>\n",
       "      <td>ID00419637202311204720264_-12</td>\n",
       "      <td>3113.617884</td>\n",
       "      <td>163.804739</td>\n",
       "    </tr>\n",
       "    <tr>\n",
       "      <th>1</th>\n",
       "      <td>ID00421637202311550012437_-12</td>\n",
       "      <td>2850.934928</td>\n",
       "      <td>193.980219</td>\n",
       "    </tr>\n",
       "    <tr>\n",
       "      <th>2</th>\n",
       "      <td>ID00422637202311677017371_-12</td>\n",
       "      <td>2004.653781</td>\n",
       "      <td>151.326274</td>\n",
       "    </tr>\n",
       "    <tr>\n",
       "      <th>3</th>\n",
       "      <td>ID00423637202312137826377_-12</td>\n",
       "      <td>3409.895878</td>\n",
       "      <td>195.154781</td>\n",
       "    </tr>\n",
       "    <tr>\n",
       "      <th>4</th>\n",
       "      <td>ID00426637202313170790466_-12</td>\n",
       "      <td>2969.694053</td>\n",
       "      <td>116.519021</td>\n",
       "    </tr>\n",
       "  </tbody>\n",
       "</table>\n",
       "</div>"
      ],
      "text/plain": [
       "                    Patient_Week          FVC  Confidence\n",
       "0  ID00419637202311204720264_-12  3113.617884  163.804739\n",
       "1  ID00421637202311550012437_-12  2850.934928  193.980219\n",
       "2  ID00422637202311677017371_-12  2004.653781  151.326274\n",
       "3  ID00423637202312137826377_-12  3409.895878  195.154781\n",
       "4  ID00426637202313170790466_-12  2969.694053  116.519021"
      ]
     },
     "execution_count": 41,
     "metadata": {},
     "output_type": "execute_result"
    }
   ],
   "source": [
    "sub.head()"
   ]
  },
  {
   "cell_type": "code",
   "execution_count": 42,
   "metadata": {
    "execution": {
     "iopub.execute_input": "2020-10-04T09:09:07.592994Z",
     "iopub.status.busy": "2020-10-04T09:09:07.592286Z",
     "iopub.status.idle": "2020-10-04T09:09:07.596847Z",
     "shell.execute_reply": "2020-10-04T09:09:07.596278Z"
    },
    "papermill": {
     "duration": 0.102922,
     "end_time": "2020-10-04T09:09:07.596968",
     "exception": false,
     "start_time": "2020-10-04T09:09:07.494046",
     "status": "completed"
    },
    "tags": []
   },
   "outputs": [],
   "source": [
    "#sub[[\"Patient_Week\",\"FVC\",\"Confidence\"]].to_csv(\"submission_img.csv\", index=False)"
   ]
  },
  {
   "cell_type": "code",
   "execution_count": 43,
   "metadata": {
    "execution": {
     "iopub.execute_input": "2020-10-04T09:09:07.786538Z",
     "iopub.status.busy": "2020-10-04T09:09:07.784569Z",
     "iopub.status.idle": "2020-10-04T09:09:07.787329Z",
     "shell.execute_reply": "2020-10-04T09:09:07.787817Z"
    },
    "papermill": {
     "duration": 0.105015,
     "end_time": "2020-10-04T09:09:07.787940",
     "exception": false,
     "start_time": "2020-10-04T09:09:07.682925",
     "status": "completed"
    },
    "tags": []
   },
   "outputs": [],
   "source": [
    "img_sub = sub[[\"Patient_Week\",\"FVC\",\"Confidence\"]].copy()"
   ]
  },
  {
   "cell_type": "markdown",
   "metadata": {
    "papermill": {
     "duration": 0.086211,
     "end_time": "2020-10-04T09:09:07.958546",
     "exception": false,
     "start_time": "2020-10-04T09:09:07.872335",
     "status": "completed"
    },
    "tags": []
   },
   "source": [
    "## 4.2 Osic-Multiple-Quantile-Regression <a class=\"anchor\" id=\"4.2\"></a>\n",
    "\n",
    "[Back to Table of Contents](#0.1)"
   ]
  },
  {
   "cell_type": "code",
   "execution_count": 44,
   "metadata": {
    "execution": {
     "iopub.execute_input": "2020-10-04T09:09:08.145464Z",
     "iopub.status.busy": "2020-10-04T09:09:08.144565Z",
     "iopub.status.idle": "2020-10-04T09:09:08.173996Z",
     "shell.execute_reply": "2020-10-04T09:09:08.174608Z"
    },
    "papermill": {
     "duration": 0.129284,
     "end_time": "2020-10-04T09:09:08.174775",
     "exception": false,
     "start_time": "2020-10-04T09:09:08.045491",
     "status": "completed"
    },
    "tags": []
   },
   "outputs": [
    {
     "name": "stdout",
     "output_type": "stream",
     "text": [
      "add infos\n"
     ]
    }
   ],
   "source": [
    "ROOT = \"../input/osic-pulmonary-fibrosis-progression\"\n",
    "BATCH_SIZE=128\n",
    "\n",
    "tr = pd.read_csv(f\"{ROOT}/train.csv\")\n",
    "tr.drop_duplicates(keep=False, inplace=True, subset=['Patient','Weeks'])\n",
    "chunk = pd.read_csv(f\"{ROOT}/test.csv\")\n",
    "\n",
    "print(\"add infos\")\n",
    "sub = pd.read_csv(f\"{ROOT}/sample_submission.csv\")\n",
    "sub['Patient'] = sub['Patient_Week'].apply(lambda x:x.split('_')[0])\n",
    "sub['Weeks'] = sub['Patient_Week'].apply(lambda x: int(x.split('_')[-1]))\n",
    "sub =  sub[['Patient','Weeks','Confidence','Patient_Week']]\n",
    "sub = sub.merge(chunk.drop('Weeks', axis=1), on=\"Patient\")"
   ]
  },
  {
   "cell_type": "code",
   "execution_count": 45,
   "metadata": {
    "execution": {
     "iopub.execute_input": "2020-10-04T09:09:08.361292Z",
     "iopub.status.busy": "2020-10-04T09:09:08.359239Z",
     "iopub.status.idle": "2020-10-04T09:09:08.369976Z",
     "shell.execute_reply": "2020-10-04T09:09:08.369372Z"
    },
    "papermill": {
     "duration": 0.1057,
     "end_time": "2020-10-04T09:09:08.370118",
     "exception": false,
     "start_time": "2020-10-04T09:09:08.264418",
     "status": "completed"
    },
    "tags": []
   },
   "outputs": [],
   "source": [
    "tr['WHERE'] = 'train'\n",
    "chunk['WHERE'] = 'val'\n",
    "sub['WHERE'] = 'test'\n",
    "data = tr.append([chunk, sub])"
   ]
  },
  {
   "cell_type": "code",
   "execution_count": 46,
   "metadata": {
    "execution": {
     "iopub.execute_input": "2020-10-04T09:09:08.555929Z",
     "iopub.status.busy": "2020-10-04T09:09:08.554908Z",
     "iopub.status.idle": "2020-10-04T09:09:08.561727Z",
     "shell.execute_reply": "2020-10-04T09:09:08.562297Z"
    },
    "papermill": {
     "duration": 0.105812,
     "end_time": "2020-10-04T09:09:08.562428",
     "exception": false,
     "start_time": "2020-10-04T09:09:08.456616",
     "status": "completed"
    },
    "tags": []
   },
   "outputs": [
    {
     "name": "stdout",
     "output_type": "stream",
     "text": [
      "(1535, 8) (5, 8) (730, 10) (2270, 10)\n",
      "176 5 5 176\n"
     ]
    }
   ],
   "source": [
    "print(tr.shape, chunk.shape, sub.shape, data.shape)\n",
    "print(tr.Patient.nunique(), chunk.Patient.nunique(), sub.Patient.nunique(), \n",
    "      data.Patient.nunique())"
   ]
  },
  {
   "cell_type": "code",
   "execution_count": 47,
   "metadata": {
    "execution": {
     "iopub.execute_input": "2020-10-04T09:09:08.743332Z",
     "iopub.status.busy": "2020-10-04T09:09:08.742411Z",
     "iopub.status.idle": "2020-10-04T09:09:08.749397Z",
     "shell.execute_reply": "2020-10-04T09:09:08.750005Z"
    },
    "papermill": {
     "duration": 0.101598,
     "end_time": "2020-10-04T09:09:08.750129",
     "exception": false,
     "start_time": "2020-10-04T09:09:08.648531",
     "status": "completed"
    },
    "tags": []
   },
   "outputs": [],
   "source": [
    "data['min_week'] = data['Weeks']\n",
    "data.loc[data.WHERE=='test','min_week'] = np.nan\n",
    "data['min_week'] = data.groupby('Patient')['min_week'].transform('min')"
   ]
  },
  {
   "cell_type": "code",
   "execution_count": 48,
   "metadata": {
    "execution": {
     "iopub.execute_input": "2020-10-04T09:09:08.931901Z",
     "iopub.status.busy": "2020-10-04T09:09:08.931189Z",
     "iopub.status.idle": "2020-10-04T09:09:08.939470Z",
     "shell.execute_reply": "2020-10-04T09:09:08.940039Z"
    },
    "papermill": {
     "duration": 0.103877,
     "end_time": "2020-10-04T09:09:08.940165",
     "exception": false,
     "start_time": "2020-10-04T09:09:08.836288",
     "status": "completed"
    },
    "tags": []
   },
   "outputs": [],
   "source": [
    "base = data.loc[data.Weeks == data.min_week]\n",
    "base = base[['Patient','FVC']].copy()\n",
    "base.columns = ['Patient','min_FVC']\n",
    "base['nb'] = 1\n",
    "base['nb'] = base.groupby('Patient')['nb'].transform('cumsum')\n",
    "base = base[base.nb==1]\n",
    "base.drop('nb', axis=1, inplace=True)"
   ]
  },
  {
   "cell_type": "code",
   "execution_count": 49,
   "metadata": {
    "execution": {
     "iopub.execute_input": "2020-10-04T09:09:09.119273Z",
     "iopub.status.busy": "2020-10-04T09:09:09.118325Z",
     "iopub.status.idle": "2020-10-04T09:09:09.127377Z",
     "shell.execute_reply": "2020-10-04T09:09:09.126903Z"
    },
    "papermill": {
     "duration": 0.101739,
     "end_time": "2020-10-04T09:09:09.127476",
     "exception": false,
     "start_time": "2020-10-04T09:09:09.025737",
     "status": "completed"
    },
    "tags": []
   },
   "outputs": [],
   "source": [
    "data = data.merge(base, on='Patient', how='left')\n",
    "data['base_week'] = data['Weeks'] - data['min_week']\n",
    "del base"
   ]
  },
  {
   "cell_type": "code",
   "execution_count": 50,
   "metadata": {
    "execution": {
     "iopub.execute_input": "2020-10-04T09:09:09.310687Z",
     "iopub.status.busy": "2020-10-04T09:09:09.310076Z",
     "iopub.status.idle": "2020-10-04T09:09:09.318562Z",
     "shell.execute_reply": "2020-10-04T09:09:09.317971Z"
    },
    "papermill": {
     "duration": 0.103584,
     "end_time": "2020-10-04T09:09:09.318675",
     "exception": false,
     "start_time": "2020-10-04T09:09:09.215091",
     "status": "completed"
    },
    "tags": []
   },
   "outputs": [],
   "source": [
    "COLS = ['Sex','SmokingStatus'] #,'Age'\n",
    "FE = []\n",
    "for col in COLS:\n",
    "    for mod in data[col].unique():\n",
    "        FE.append(mod)\n",
    "        data[mod] = (data[col] == mod).astype(int)"
   ]
  },
  {
   "cell_type": "code",
   "execution_count": 51,
   "metadata": {
    "execution": {
     "iopub.execute_input": "2020-10-04T09:09:09.508107Z",
     "iopub.status.busy": "2020-10-04T09:09:09.506402Z",
     "iopub.status.idle": "2020-10-04T09:09:09.509018Z",
     "shell.execute_reply": "2020-10-04T09:09:09.509504Z"
    },
    "papermill": {
     "duration": 0.103245,
     "end_time": "2020-10-04T09:09:09.509623",
     "exception": false,
     "start_time": "2020-10-04T09:09:09.406378",
     "status": "completed"
    },
    "tags": []
   },
   "outputs": [],
   "source": [
    "\n",
    "data['age'] = (data['Age'] - data['Age'].min() ) / ( data['Age'].max() - data['Age'].min() )\n",
    "data['BASE'] = (data['min_FVC'] - data['min_FVC'].min() ) / ( data['min_FVC'].max() - data['min_FVC'].min() )\n",
    "data['week'] = (data['base_week'] - data['base_week'].min() ) / ( data['base_week'].max() - data['base_week'].min() )\n",
    "data['percent'] = (data['Percent'] - data['Percent'].min() ) / ( data['Percent'].max() - data['Percent'].min() )\n",
    "FE += ['age','percent','week','BASE']"
   ]
  },
  {
   "cell_type": "code",
   "execution_count": 52,
   "metadata": {
    "execution": {
     "iopub.execute_input": "2020-10-04T09:09:09.691322Z",
     "iopub.status.busy": "2020-10-04T09:09:09.690384Z",
     "iopub.status.idle": "2020-10-04T09:09:09.698660Z",
     "shell.execute_reply": "2020-10-04T09:09:09.698130Z"
    },
    "papermill": {
     "duration": 0.10037,
     "end_time": "2020-10-04T09:09:09.698783",
     "exception": false,
     "start_time": "2020-10-04T09:09:09.598413",
     "status": "completed"
    },
    "tags": []
   },
   "outputs": [],
   "source": [
    "tr = data.loc[data.WHERE=='train']\n",
    "chunk = data.loc[data.WHERE=='val']\n",
    "sub = data.loc[data.WHERE=='test']\n",
    "del data"
   ]
  },
  {
   "cell_type": "code",
   "execution_count": 53,
   "metadata": {
    "execution": {
     "iopub.execute_input": "2020-10-04T09:09:09.884879Z",
     "iopub.status.busy": "2020-10-04T09:09:09.883915Z",
     "iopub.status.idle": "2020-10-04T09:09:09.888231Z",
     "shell.execute_reply": "2020-10-04T09:09:09.887600Z"
    },
    "papermill": {
     "duration": 0.096709,
     "end_time": "2020-10-04T09:09:09.888332",
     "exception": false,
     "start_time": "2020-10-04T09:09:09.791623",
     "status": "completed"
    },
    "tags": []
   },
   "outputs": [
    {
     "data": {
      "text/plain": [
       "((1535, 22), (5, 22), (730, 22))"
      ]
     },
     "execution_count": 53,
     "metadata": {},
     "output_type": "execute_result"
    }
   ],
   "source": [
    "tr.shape, chunk.shape, sub.shape"
   ]
  },
  {
   "cell_type": "markdown",
   "metadata": {
    "papermill": {
     "duration": 0.085232,
     "end_time": "2020-10-04T09:09:10.061548",
     "exception": false,
     "start_time": "2020-10-04T09:09:09.976316",
     "status": "completed"
    },
    "tags": []
   },
   "source": [
    "## 4.3 The change of mloss <a class=\"anchor\" id=\"4.3\"></a>\n",
    "\n",
    "[Back to Table of Contents](#0.1)"
   ]
  },
  {
   "cell_type": "code",
   "execution_count": 54,
   "metadata": {
    "execution": {
     "iopub.execute_input": "2020-10-04T09:09:10.239961Z",
     "iopub.status.busy": "2020-10-04T09:09:10.239064Z",
     "iopub.status.idle": "2020-10-04T09:09:10.261637Z",
     "shell.execute_reply": "2020-10-04T09:09:10.261043Z"
    },
    "papermill": {
     "duration": 0.113153,
     "end_time": "2020-10-04T09:09:10.261733",
     "exception": false,
     "start_time": "2020-10-04T09:09:10.148580",
     "status": "completed"
    },
    "tags": []
   },
   "outputs": [],
   "source": [
    "C1, C2 = tf.constant(70, dtype='float32'), tf.constant(1000, dtype=\"float32\")\n",
    "\n",
    "def score(y_true, y_pred):\n",
    "    tf.dtypes.cast(y_true, tf.float32)\n",
    "    tf.dtypes.cast(y_pred, tf.float32)\n",
    "    sigma = y_pred[:, 2] - y_pred[:, 0]\n",
    "    fvc_pred = y_pred[:, 1]\n",
    "    \n",
    "    #sigma_clip = sigma + C1\n",
    "    sigma_clip = tf.maximum(sigma, C1)\n",
    "    delta = tf.abs(y_true[:, 0] - fvc_pred)\n",
    "    delta = tf.minimum(delta, C2)\n",
    "    sq2 = tf.sqrt( tf.dtypes.cast(2, dtype=tf.float32) )\n",
    "    metric = (delta / sigma_clip)*sq2 + tf.math.log(sigma_clip* sq2)\n",
    "    return K.mean(metric)\n",
    "\n",
    "def qloss(y_true, y_pred):\n",
    "    # Pinball loss for multiple quantiles\n",
    "    qs = [0.2, 0.50, 0.8]\n",
    "    q = tf.constant(np.array([qs]), dtype=tf.float32)\n",
    "    e = y_true - y_pred\n",
    "    v = tf.maximum(q*e, (q-1)*e)\n",
    "    return K.mean(v)\n",
    "\n",
    "def mloss(_lambda):\n",
    "    def loss(y_true, y_pred):\n",
    "        return _lambda * qloss(y_true, y_pred) + (1 - _lambda)*score(y_true, y_pred)\n",
    "    return loss\n",
    "\n",
    "def make_model(nh):\n",
    "    z = L.Input((nh,), name=\"Patient\")\n",
    "    x = L.Dense(100, activation=\"relu\", name=\"d1\")(z)\n",
    "    x = L.Dense(100, activation=\"relu\", name=\"d2\")(x)\n",
    "    p1 = L.Dense(3, activation=\"linear\", name=\"p1\")(x)\n",
    "    p2 = L.Dense(3, activation=\"relu\", name=\"p2\")(x)\n",
    "    preds = L.Lambda(lambda x: x[0] + tf.cumsum(x[1], axis=1), \n",
    "                     name=\"preds\")([p1, p2])\n",
    "    \n",
    "    model = M.Model(z, preds, name=\"CNN\")\n",
    "    model.compile(loss=mloss(0.65), optimizer=tf.keras.optimizers.Adam(lr=0.1, beta_1=0.9, beta_2=0.999, epsilon=None, decay=0.01, amsgrad=False), metrics=[score])\n",
    "    return model"
   ]
  },
  {
   "cell_type": "code",
   "execution_count": 55,
   "metadata": {
    "execution": {
     "iopub.execute_input": "2020-10-04T09:09:10.446119Z",
     "iopub.status.busy": "2020-10-04T09:09:10.444304Z",
     "iopub.status.idle": "2020-10-04T09:09:10.447164Z",
     "shell.execute_reply": "2020-10-04T09:09:10.447693Z"
    },
    "papermill": {
     "duration": 0.09989,
     "end_time": "2020-10-04T09:09:10.447844",
     "exception": false,
     "start_time": "2020-10-04T09:09:10.347954",
     "status": "completed"
    },
    "tags": []
   },
   "outputs": [],
   "source": [
    "y = tr['FVC'].values\n",
    "z = tr[FE].values\n",
    "ze = sub[FE].values\n",
    "nh = z.shape[1]\n",
    "pe = np.zeros((ze.shape[0], 3))\n",
    "pred = np.zeros((z.shape[0], 3))"
   ]
  },
  {
   "cell_type": "code",
   "execution_count": 56,
   "metadata": {
    "execution": {
     "iopub.execute_input": "2020-10-04T09:09:10.634183Z",
     "iopub.status.busy": "2020-10-04T09:09:10.633002Z",
     "iopub.status.idle": "2020-10-04T09:09:10.712528Z",
     "shell.execute_reply": "2020-10-04T09:09:10.711516Z"
    },
    "papermill": {
     "duration": 0.177111,
     "end_time": "2020-10-04T09:09:10.712649",
     "exception": false,
     "start_time": "2020-10-04T09:09:10.535538",
     "status": "completed"
    },
    "tags": []
   },
   "outputs": [
    {
     "name": "stdout",
     "output_type": "stream",
     "text": [
      "Model: \"CNN\"\n",
      "__________________________________________________________________________________________________\n",
      "Layer (type)                    Output Shape         Param #     Connected to                     \n",
      "==================================================================================================\n",
      "Patient (InputLayer)            [(None, 9)]          0                                            \n",
      "__________________________________________________________________________________________________\n",
      "d1 (Dense)                      (None, 100)          1000        Patient[0][0]                    \n",
      "__________________________________________________________________________________________________\n",
      "d2 (Dense)                      (None, 100)          10100       d1[0][0]                         \n",
      "__________________________________________________________________________________________________\n",
      "p1 (Dense)                      (None, 3)            303         d2[0][0]                         \n",
      "__________________________________________________________________________________________________\n",
      "p2 (Dense)                      (None, 3)            303         d2[0][0]                         \n",
      "__________________________________________________________________________________________________\n",
      "preds (Lambda)                  (None, 3)            0           p1[0][0]                         \n",
      "                                                                 p2[0][0]                         \n",
      "==================================================================================================\n",
      "Total params: 11,706\n",
      "Trainable params: 11,706\n",
      "Non-trainable params: 0\n",
      "__________________________________________________________________________________________________\n",
      "None\n",
      "11706\n"
     ]
    }
   ],
   "source": [
    "net = make_model(nh)\n",
    "print(net.summary())\n",
    "print(net.count_params())"
   ]
  },
  {
   "cell_type": "code",
   "execution_count": 57,
   "metadata": {
    "execution": {
     "iopub.execute_input": "2020-10-04T09:09:10.895720Z",
     "iopub.status.busy": "2020-10-04T09:09:10.894677Z",
     "iopub.status.idle": "2020-10-04T09:09:10.897261Z",
     "shell.execute_reply": "2020-10-04T09:09:10.897697Z"
    },
    "papermill": {
     "duration": 0.095815,
     "end_time": "2020-10-04T09:09:10.897859",
     "exception": false,
     "start_time": "2020-10-04T09:09:10.802044",
     "status": "completed"
    },
    "tags": []
   },
   "outputs": [],
   "source": [
    "NFOLD = 5 # originally 5\n",
    "kf = KFold(n_splits=NFOLD)"
   ]
  },
  {
   "cell_type": "code",
   "execution_count": 58,
   "metadata": {
    "execution": {
     "iopub.execute_input": "2020-10-04T09:09:11.083729Z",
     "iopub.status.busy": "2020-10-04T09:09:11.082886Z",
     "iopub.status.idle": "2020-10-04T09:13:14.729197Z",
     "shell.execute_reply": "2020-10-04T09:13:14.730521Z"
    },
    "papermill": {
     "duration": 243.744265,
     "end_time": "2020-10-04T09:13:14.730743",
     "exception": false,
     "start_time": "2020-10-04T09:09:10.986478",
     "status": "completed"
    },
    "tags": []
   },
   "outputs": [
    {
     "name": "stdout",
     "output_type": "stream",
     "text": [
      "FOLD 1\n",
      "train [34.270179748535156, 6.503944396972656]\n",
      "val [40.824684143066406, 6.840489864349365]\n",
      "predict val...\n",
      "predict test...\n",
      "FOLD 2\n",
      "train [32.21866226196289, 6.459742069244385]\n",
      "val [45.971282958984375, 6.9123711585998535]\n",
      "predict val...\n",
      "predict test...\n",
      "FOLD 3\n",
      "train [31.471418380737305, 6.4251203536987305]\n",
      "val [47.3336181640625, 6.77154541015625]\n",
      "predict val...\n",
      "predict test...\n",
      "FOLD 4\n",
      "train [34.67753601074219, 6.539414882659912]\n",
      "val [35.4544563293457, 6.561216354370117]\n",
      "predict val...\n",
      "predict test...\n",
      "FOLD 5\n",
      "train [31.494426727294922, 6.418673515319824]\n",
      "val [41.016510009765625, 6.77692174911499]\n",
      "predict val...\n",
      "predict test...\n",
      "CPU times: user 4min 29s, sys: 17.1 s, total: 4min 46s\n",
      "Wall time: 4min 3s\n"
     ]
    }
   ],
   "source": [
    "%%time\n",
    "cnt = 0\n",
    "EPOCHS = 855\n",
    "for tr_idx, val_idx in kf.split(z):\n",
    "    cnt += 1\n",
    "    print(f\"FOLD {cnt}\")\n",
    "    net = make_model(nh)\n",
    "    net.fit(z[tr_idx], y[tr_idx], batch_size=BATCH_SIZE, epochs=EPOCHS, \n",
    "            validation_data=(z[val_idx], y[val_idx]), verbose=0) #\n",
    "    print(\"train\", net.evaluate(z[tr_idx], y[tr_idx], verbose=0, batch_size=BATCH_SIZE))\n",
    "    print(\"val\", net.evaluate(z[val_idx], y[val_idx], verbose=0, batch_size=BATCH_SIZE))\n",
    "    print(\"predict val...\")\n",
    "    pred[val_idx] = net.predict(z[val_idx], batch_size=BATCH_SIZE, verbose=0)\n",
    "    print(\"predict test...\")\n",
    "    pe += net.predict(ze, batch_size=BATCH_SIZE, verbose=0) / NFOLD"
   ]
  },
  {
   "cell_type": "code",
   "execution_count": 59,
   "metadata": {
    "execution": {
     "iopub.execute_input": "2020-10-04T09:13:14.913832Z",
     "iopub.status.busy": "2020-10-04T09:13:14.912294Z",
     "iopub.status.idle": "2020-10-04T09:13:14.917383Z",
     "shell.execute_reply": "2020-10-04T09:13:14.914451Z"
    },
    "papermill": {
     "duration": 0.100004,
     "end_time": "2020-10-04T09:13:14.917552",
     "exception": false,
     "start_time": "2020-10-04T09:13:14.817548",
     "status": "completed"
    },
    "tags": []
   },
   "outputs": [
    {
     "name": "stdout",
     "output_type": "stream",
     "text": [
      "146.5942020180171 228.12168883283286\n"
     ]
    }
   ],
   "source": [
    "sigma_opt = mean_absolute_error(y, pred[:, 1])\n",
    "unc = pred[:,2] - pred[:, 0]\n",
    "sigma_mean = np.mean(unc)\n",
    "print(sigma_opt, sigma_mean)"
   ]
  },
  {
   "cell_type": "code",
   "execution_count": 60,
   "metadata": {
    "execution": {
     "iopub.execute_input": "2020-10-04T09:13:15.110427Z",
     "iopub.status.busy": "2020-10-04T09:13:15.109628Z",
     "iopub.status.idle": "2020-10-04T09:13:15.352472Z",
     "shell.execute_reply": "2020-10-04T09:13:15.351911Z"
    },
    "papermill": {
     "duration": 0.33923,
     "end_time": "2020-10-04T09:13:15.352578",
     "exception": false,
     "start_time": "2020-10-04T09:13:15.013348",
     "status": "completed"
    },
    "tags": []
   },
   "outputs": [
    {
     "data": {
      "image/png": "[encoded data removed]",
      "text/plain": [
       "<Figure size 432x288 with 1 Axes>"
      ]
     },
     "metadata": {
      "needs_background": "light"
     },
     "output_type": "display_data"
    }
   ],
   "source": [
    "idxs = np.random.randint(0, y.shape[0], 100)\n",
    "plt.plot(y[idxs], label=\"ground truth\")\n",
    "plt.plot(pred[idxs, 0], label=\"q25\")\n",
    "plt.plot(pred[idxs, 1], label=\"q50\")\n",
    "plt.plot(pred[idxs, 2], label=\"q75\")\n",
    "plt.legend(loc=\"best\")\n",
    "plt.show()"
   ]
  },
  {
   "cell_type": "code",
   "execution_count": 61,
   "metadata": {
    "execution": {
     "iopub.execute_input": "2020-10-04T09:13:15.561617Z",
     "iopub.status.busy": "2020-10-04T09:13:15.559629Z",
     "iopub.status.idle": "2020-10-04T09:13:15.564273Z",
     "shell.execute_reply": "2020-10-04T09:13:15.562355Z"
    },
    "papermill": {
     "duration": 0.102102,
     "end_time": "2020-10-04T09:13:15.564429",
     "exception": false,
     "start_time": "2020-10-04T09:13:15.462327",
     "status": "completed"
    },
    "tags": []
   },
   "outputs": [
    {
     "name": "stdout",
     "output_type": "stream",
     "text": [
      "7.11376953125 228.12168883283286 385.447265625 1.0\n"
     ]
    }
   ],
   "source": [
    "print(unc.min(), unc.mean(), unc.max(), (unc>=0).mean())"
   ]
  },
  {
   "cell_type": "code",
   "execution_count": 62,
   "metadata": {
    "execution": {
     "iopub.execute_input": "2020-10-04T09:13:15.757740Z",
     "iopub.status.busy": "2020-10-04T09:13:15.756453Z",
     "iopub.status.idle": "2020-10-04T09:13:15.927586Z",
     "shell.execute_reply": "2020-10-04T09:13:15.928107Z"
    },
    "papermill": {
     "duration": 0.271298,
     "end_time": "2020-10-04T09:13:15.928243",
     "exception": false,
     "start_time": "2020-10-04T09:13:15.656945",
     "status": "completed"
    },
    "tags": []
   },
   "outputs": [
    {
     "data": {
      "image/png": "[encoded data removed]",
      "text/plain": [
       "<Figure size 432x288 with 1 Axes>"
      ]
     },
     "metadata": {
      "needs_background": "light"
     },
     "output_type": "display_data"
    }
   ],
   "source": [
    "plt.hist(unc)\n",
    "plt.title(\"uncertainty in prediction\")\n",
    "plt.show()"
   ]
  },
  {
   "cell_type": "code",
   "execution_count": 63,
   "metadata": {
    "execution": {
     "iopub.execute_input": "2020-10-04T09:13:16.141529Z",
     "iopub.status.busy": "2020-10-04T09:13:16.140572Z",
     "iopub.status.idle": "2020-10-04T09:13:16.147938Z",
     "shell.execute_reply": "2020-10-04T09:13:16.147302Z"
    },
    "papermill": {
     "duration": 0.129278,
     "end_time": "2020-10-04T09:13:16.148076",
     "exception": false,
     "start_time": "2020-10-04T09:13:16.018798",
     "status": "completed"
    },
    "tags": []
   },
   "outputs": [
    {
     "data": {
      "text/html": [
       "<div>\n",
       "<style scoped>\n",
       "    .dataframe tbody tr th:only-of-type {\n",
       "        vertical-align: middle;\n",
       "    }\n",
       "\n",
       "    .dataframe tbody tr th {\n",
       "        vertical-align: top;\n",
       "    }\n",
       "\n",
       "    .dataframe thead th {\n",
       "        text-align: right;\n",
       "    }\n",
       "</style>\n",
       "<table border=\"1\" class=\"dataframe\">\n",
       "  <thead>\n",
       "    <tr style=\"text-align: right;\">\n",
       "      <th></th>\n",
       "      <th>Patient</th>\n",
       "      <th>Weeks</th>\n",
       "      <th>FVC</th>\n",
       "      <th>Percent</th>\n",
       "      <th>Age</th>\n",
       "      <th>Sex</th>\n",
       "      <th>SmokingStatus</th>\n",
       "      <th>WHERE</th>\n",
       "      <th>Confidence</th>\n",
       "      <th>Patient_Week</th>\n",
       "      <th>...</th>\n",
       "      <th>base_week</th>\n",
       "      <th>Male</th>\n",
       "      <th>Female</th>\n",
       "      <th>Ex-smoker</th>\n",
       "      <th>Never smoked</th>\n",
       "      <th>Currently smokes</th>\n",
       "      <th>age</th>\n",
       "      <th>BASE</th>\n",
       "      <th>week</th>\n",
       "      <th>percent</th>\n",
       "    </tr>\n",
       "  </thead>\n",
       "  <tbody>\n",
       "    <tr>\n",
       "      <th>1540</th>\n",
       "      <td>ID00419637202311204720264</td>\n",
       "      <td>-12</td>\n",
       "      <td>3020</td>\n",
       "      <td>70.186855</td>\n",
       "      <td>73</td>\n",
       "      <td>Male</td>\n",
       "      <td>Ex-smoker</td>\n",
       "      <td>test</td>\n",
       "      <td>100.0</td>\n",
       "      <td>ID00419637202311204720264_-12</td>\n",
       "      <td>...</td>\n",
       "      <td>-18.0</td>\n",
       "      <td>1</td>\n",
       "      <td>0</td>\n",
       "      <td>1</td>\n",
       "      <td>0</td>\n",
       "      <td>0</td>\n",
       "      <td>0.615385</td>\n",
       "      <td>0.3724</td>\n",
       "      <td>0.067901</td>\n",
       "      <td>0.332421</td>\n",
       "    </tr>\n",
       "    <tr>\n",
       "      <th>1541</th>\n",
       "      <td>ID00419637202311204720264</td>\n",
       "      <td>-11</td>\n",
       "      <td>3020</td>\n",
       "      <td>70.186855</td>\n",
       "      <td>73</td>\n",
       "      <td>Male</td>\n",
       "      <td>Ex-smoker</td>\n",
       "      <td>test</td>\n",
       "      <td>100.0</td>\n",
       "      <td>ID00419637202311204720264_-11</td>\n",
       "      <td>...</td>\n",
       "      <td>-17.0</td>\n",
       "      <td>1</td>\n",
       "      <td>0</td>\n",
       "      <td>1</td>\n",
       "      <td>0</td>\n",
       "      <td>0</td>\n",
       "      <td>0.615385</td>\n",
       "      <td>0.3724</td>\n",
       "      <td>0.074074</td>\n",
       "      <td>0.332421</td>\n",
       "    </tr>\n",
       "    <tr>\n",
       "      <th>1542</th>\n",
       "      <td>ID00419637202311204720264</td>\n",
       "      <td>-10</td>\n",
       "      <td>3020</td>\n",
       "      <td>70.186855</td>\n",
       "      <td>73</td>\n",
       "      <td>Male</td>\n",
       "      <td>Ex-smoker</td>\n",
       "      <td>test</td>\n",
       "      <td>100.0</td>\n",
       "      <td>ID00419637202311204720264_-10</td>\n",
       "      <td>...</td>\n",
       "      <td>-16.0</td>\n",
       "      <td>1</td>\n",
       "      <td>0</td>\n",
       "      <td>1</td>\n",
       "      <td>0</td>\n",
       "      <td>0</td>\n",
       "      <td>0.615385</td>\n",
       "      <td>0.3724</td>\n",
       "      <td>0.080247</td>\n",
       "      <td>0.332421</td>\n",
       "    </tr>\n",
       "    <tr>\n",
       "      <th>1543</th>\n",
       "      <td>ID00419637202311204720264</td>\n",
       "      <td>-9</td>\n",
       "      <td>3020</td>\n",
       "      <td>70.186855</td>\n",
       "      <td>73</td>\n",
       "      <td>Male</td>\n",
       "      <td>Ex-smoker</td>\n",
       "      <td>test</td>\n",
       "      <td>100.0</td>\n",
       "      <td>ID00419637202311204720264_-9</td>\n",
       "      <td>...</td>\n",
       "      <td>-15.0</td>\n",
       "      <td>1</td>\n",
       "      <td>0</td>\n",
       "      <td>1</td>\n",
       "      <td>0</td>\n",
       "      <td>0</td>\n",
       "      <td>0.615385</td>\n",
       "      <td>0.3724</td>\n",
       "      <td>0.086420</td>\n",
       "      <td>0.332421</td>\n",
       "    </tr>\n",
       "    <tr>\n",
       "      <th>1544</th>\n",
       "      <td>ID00419637202311204720264</td>\n",
       "      <td>-8</td>\n",
       "      <td>3020</td>\n",
       "      <td>70.186855</td>\n",
       "      <td>73</td>\n",
       "      <td>Male</td>\n",
       "      <td>Ex-smoker</td>\n",
       "      <td>test</td>\n",
       "      <td>100.0</td>\n",
       "      <td>ID00419637202311204720264_-8</td>\n",
       "      <td>...</td>\n",
       "      <td>-14.0</td>\n",
       "      <td>1</td>\n",
       "      <td>0</td>\n",
       "      <td>1</td>\n",
       "      <td>0</td>\n",
       "      <td>0</td>\n",
       "      <td>0.615385</td>\n",
       "      <td>0.3724</td>\n",
       "      <td>0.092593</td>\n",
       "      <td>0.332421</td>\n",
       "    </tr>\n",
       "  </tbody>\n",
       "</table>\n",
       "<p>5 rows × 22 columns</p>\n",
       "</div>"
      ],
      "text/plain": [
       "                        Patient  Weeks   FVC    Percent  Age   Sex  \\\n",
       "1540  ID00419637202311204720264    -12  3020  70.186855   73  Male   \n",
       "1541  ID00419637202311204720264    -11  3020  70.186855   73  Male   \n",
       "1542  ID00419637202311204720264    -10  3020  70.186855   73  Male   \n",
       "1543  ID00419637202311204720264     -9  3020  70.186855   73  Male   \n",
       "1544  ID00419637202311204720264     -8  3020  70.186855   73  Male   \n",
       "\n",
       "     SmokingStatus WHERE  Confidence                   Patient_Week  ...  \\\n",
       "1540     Ex-smoker  test       100.0  ID00419637202311204720264_-12  ...   \n",
       "1541     Ex-smoker  test       100.0  ID00419637202311204720264_-11  ...   \n",
       "1542     Ex-smoker  test       100.0  ID00419637202311204720264_-10  ...   \n",
       "1543     Ex-smoker  test       100.0   ID00419637202311204720264_-9  ...   \n",
       "1544     Ex-smoker  test       100.0   ID00419637202311204720264_-8  ...   \n",
       "\n",
       "      base_week  Male  Female  Ex-smoker  Never smoked  Currently smokes  \\\n",
       "1540      -18.0     1       0          1             0                 0   \n",
       "1541      -17.0     1       0          1             0                 0   \n",
       "1542      -16.0     1       0          1             0                 0   \n",
       "1543      -15.0     1       0          1             0                 0   \n",
       "1544      -14.0     1       0          1             0                 0   \n",
       "\n",
       "           age    BASE      week   percent  \n",
       "1540  0.615385  0.3724  0.067901  0.332421  \n",
       "1541  0.615385  0.3724  0.074074  0.332421  \n",
       "1542  0.615385  0.3724  0.080247  0.332421  \n",
       "1543  0.615385  0.3724  0.086420  0.332421  \n",
       "1544  0.615385  0.3724  0.092593  0.332421  \n",
       "\n",
       "[5 rows x 22 columns]"
      ]
     },
     "execution_count": 63,
     "metadata": {},
     "output_type": "execute_result"
    }
   ],
   "source": [
    "sub.head()"
   ]
  },
  {
   "cell_type": "code",
   "execution_count": 64,
   "metadata": {
    "execution": {
     "iopub.execute_input": "2020-10-04T09:13:16.420268Z",
     "iopub.status.busy": "2020-10-04T09:13:16.419372Z",
     "iopub.status.idle": "2020-10-04T09:13:16.441825Z",
     "shell.execute_reply": "2020-10-04T09:13:16.442452Z"
    },
    "papermill": {
     "duration": 0.171812,
     "end_time": "2020-10-04T09:13:16.442643",
     "exception": false,
     "start_time": "2020-10-04T09:13:16.270831",
     "status": "completed"
    },
    "tags": []
   },
   "outputs": [
    {
     "data": {
      "text/html": [
       "<div>\n",
       "<style scoped>\n",
       "    .dataframe tbody tr th:only-of-type {\n",
       "        vertical-align: middle;\n",
       "    }\n",
       "\n",
       "    .dataframe tbody tr th {\n",
       "        vertical-align: top;\n",
       "    }\n",
       "\n",
       "    .dataframe thead th {\n",
       "        text-align: right;\n",
       "    }\n",
       "</style>\n",
       "<table border=\"1\" class=\"dataframe\">\n",
       "  <thead>\n",
       "    <tr style=\"text-align: right;\">\n",
       "      <th></th>\n",
       "      <th>Patient_Week</th>\n",
       "      <th>FVC</th>\n",
       "      <th>Confidence</th>\n",
       "      <th>FVC1</th>\n",
       "      <th>Confidence1</th>\n",
       "    </tr>\n",
       "  </thead>\n",
       "  <tbody>\n",
       "    <tr>\n",
       "      <th>1540</th>\n",
       "      <td>ID00419637202311204720264_-12</td>\n",
       "      <td>3020</td>\n",
       "      <td>100.0</td>\n",
       "      <td>2878.173340</td>\n",
       "      <td>231.459656</td>\n",
       "    </tr>\n",
       "    <tr>\n",
       "      <th>1541</th>\n",
       "      <td>ID00419637202311204720264_-11</td>\n",
       "      <td>3020</td>\n",
       "      <td>100.0</td>\n",
       "      <td>2875.701172</td>\n",
       "      <td>232.726379</td>\n",
       "    </tr>\n",
       "    <tr>\n",
       "      <th>1542</th>\n",
       "      <td>ID00419637202311204720264_-10</td>\n",
       "      <td>3020</td>\n",
       "      <td>100.0</td>\n",
       "      <td>2873.229004</td>\n",
       "      <td>233.992920</td>\n",
       "    </tr>\n",
       "    <tr>\n",
       "      <th>1543</th>\n",
       "      <td>ID00419637202311204720264_-9</td>\n",
       "      <td>3020</td>\n",
       "      <td>100.0</td>\n",
       "      <td>2870.756775</td>\n",
       "      <td>235.259827</td>\n",
       "    </tr>\n",
       "    <tr>\n",
       "      <th>1544</th>\n",
       "      <td>ID00419637202311204720264_-8</td>\n",
       "      <td>3020</td>\n",
       "      <td>100.0</td>\n",
       "      <td>2868.284607</td>\n",
       "      <td>236.526489</td>\n",
       "    </tr>\n",
       "    <tr>\n",
       "      <th>1545</th>\n",
       "      <td>ID00419637202311204720264_-7</td>\n",
       "      <td>3020</td>\n",
       "      <td>100.0</td>\n",
       "      <td>2865.812561</td>\n",
       "      <td>237.793213</td>\n",
       "    </tr>\n",
       "    <tr>\n",
       "      <th>1546</th>\n",
       "      <td>ID00419637202311204720264_-6</td>\n",
       "      <td>3020</td>\n",
       "      <td>100.0</td>\n",
       "      <td>2863.340210</td>\n",
       "      <td>239.059937</td>\n",
       "    </tr>\n",
       "    <tr>\n",
       "      <th>1547</th>\n",
       "      <td>ID00419637202311204720264_-5</td>\n",
       "      <td>3020</td>\n",
       "      <td>100.0</td>\n",
       "      <td>2860.868286</td>\n",
       "      <td>240.326721</td>\n",
       "    </tr>\n",
       "    <tr>\n",
       "      <th>1548</th>\n",
       "      <td>ID00419637202311204720264_-4</td>\n",
       "      <td>3020</td>\n",
       "      <td>100.0</td>\n",
       "      <td>2858.395996</td>\n",
       "      <td>241.593506</td>\n",
       "    </tr>\n",
       "    <tr>\n",
       "      <th>1549</th>\n",
       "      <td>ID00419637202311204720264_-3</td>\n",
       "      <td>3020</td>\n",
       "      <td>100.0</td>\n",
       "      <td>2855.923584</td>\n",
       "      <td>242.860107</td>\n",
       "    </tr>\n",
       "  </tbody>\n",
       "</table>\n",
       "</div>"
      ],
      "text/plain": [
       "                       Patient_Week   FVC  Confidence         FVC1  \\\n",
       "1540  ID00419637202311204720264_-12  3020       100.0  2878.173340   \n",
       "1541  ID00419637202311204720264_-11  3020       100.0  2875.701172   \n",
       "1542  ID00419637202311204720264_-10  3020       100.0  2873.229004   \n",
       "1543   ID00419637202311204720264_-9  3020       100.0  2870.756775   \n",
       "1544   ID00419637202311204720264_-8  3020       100.0  2868.284607   \n",
       "1545   ID00419637202311204720264_-7  3020       100.0  2865.812561   \n",
       "1546   ID00419637202311204720264_-6  3020       100.0  2863.340210   \n",
       "1547   ID00419637202311204720264_-5  3020       100.0  2860.868286   \n",
       "1548   ID00419637202311204720264_-4  3020       100.0  2858.395996   \n",
       "1549   ID00419637202311204720264_-3  3020       100.0  2855.923584   \n",
       "\n",
       "      Confidence1  \n",
       "1540   231.459656  \n",
       "1541   232.726379  \n",
       "1542   233.992920  \n",
       "1543   235.259827  \n",
       "1544   236.526489  \n",
       "1545   237.793213  \n",
       "1546   239.059937  \n",
       "1547   240.326721  \n",
       "1548   241.593506  \n",
       "1549   242.860107  "
      ]
     },
     "execution_count": 64,
     "metadata": {},
     "output_type": "execute_result"
    }
   ],
   "source": [
    "# PREDICTION\n",
    "sub['FVC1'] = 1.*pe[:, 1]\n",
    "sub['Confidence1'] = pe[:, 2] - pe[:, 0]\n",
    "subm = sub[['Patient_Week','FVC','Confidence','FVC1','Confidence1']].copy()\n",
    "subm.loc[~subm.FVC1.isnull()].head(10)"
   ]
  },
  {
   "cell_type": "code",
   "execution_count": 65,
   "metadata": {
    "execution": {
     "iopub.execute_input": "2020-10-04T09:13:16.728791Z",
     "iopub.status.busy": "2020-10-04T09:13:16.727006Z",
     "iopub.status.idle": "2020-10-04T09:13:16.731598Z",
     "shell.execute_reply": "2020-10-04T09:13:16.731053Z"
    },
    "papermill": {
     "duration": 0.136891,
     "end_time": "2020-10-04T09:13:16.731699",
     "exception": false,
     "start_time": "2020-10-04T09:13:16.594808",
     "status": "completed"
    },
    "tags": []
   },
   "outputs": [],
   "source": [
    "subm.loc[~subm.FVC1.isnull(),'FVC'] = subm.loc[~subm.FVC1.isnull(),'FVC1']\n",
    "if sigma_mean<70:\n",
    "    subm['Confidence'] = sigma_opt\n",
    "else:\n",
    "    subm.loc[~subm.FVC1.isnull(),'Confidence'] = subm.loc[~subm.FVC1.isnull(),'Confidence1']"
   ]
  },
  {
   "cell_type": "code",
   "execution_count": 66,
   "metadata": {
    "execution": {
     "iopub.execute_input": "2020-10-04T09:13:16.936072Z",
     "iopub.status.busy": "2020-10-04T09:13:16.935322Z",
     "iopub.status.idle": "2020-10-04T09:13:16.939488Z",
     "shell.execute_reply": "2020-10-04T09:13:16.940094Z"
    },
    "papermill": {
     "duration": 0.115133,
     "end_time": "2020-10-04T09:13:16.940285",
     "exception": false,
     "start_time": "2020-10-04T09:13:16.825152",
     "status": "completed"
    },
    "tags": []
   },
   "outputs": [
    {
     "data": {
      "text/html": [
       "<div>\n",
       "<style scoped>\n",
       "    .dataframe tbody tr th:only-of-type {\n",
       "        vertical-align: middle;\n",
       "    }\n",
       "\n",
       "    .dataframe tbody tr th {\n",
       "        vertical-align: top;\n",
       "    }\n",
       "\n",
       "    .dataframe thead th {\n",
       "        text-align: right;\n",
       "    }\n",
       "</style>\n",
       "<table border=\"1\" class=\"dataframe\">\n",
       "  <thead>\n",
       "    <tr style=\"text-align: right;\">\n",
       "      <th></th>\n",
       "      <th>Patient_Week</th>\n",
       "      <th>FVC</th>\n",
       "      <th>Confidence</th>\n",
       "      <th>FVC1</th>\n",
       "      <th>Confidence1</th>\n",
       "    </tr>\n",
       "  </thead>\n",
       "  <tbody>\n",
       "    <tr>\n",
       "      <th>1540</th>\n",
       "      <td>ID00419637202311204720264_-12</td>\n",
       "      <td>2878.173340</td>\n",
       "      <td>231.459656</td>\n",
       "      <td>2878.173340</td>\n",
       "      <td>231.459656</td>\n",
       "    </tr>\n",
       "    <tr>\n",
       "      <th>1541</th>\n",
       "      <td>ID00419637202311204720264_-11</td>\n",
       "      <td>2875.701172</td>\n",
       "      <td>232.726379</td>\n",
       "      <td>2875.701172</td>\n",
       "      <td>232.726379</td>\n",
       "    </tr>\n",
       "    <tr>\n",
       "      <th>1542</th>\n",
       "      <td>ID00419637202311204720264_-10</td>\n",
       "      <td>2873.229004</td>\n",
       "      <td>233.992920</td>\n",
       "      <td>2873.229004</td>\n",
       "      <td>233.992920</td>\n",
       "    </tr>\n",
       "    <tr>\n",
       "      <th>1543</th>\n",
       "      <td>ID00419637202311204720264_-9</td>\n",
       "      <td>2870.756775</td>\n",
       "      <td>235.259827</td>\n",
       "      <td>2870.756775</td>\n",
       "      <td>235.259827</td>\n",
       "    </tr>\n",
       "    <tr>\n",
       "      <th>1544</th>\n",
       "      <td>ID00419637202311204720264_-8</td>\n",
       "      <td>2868.284607</td>\n",
       "      <td>236.526489</td>\n",
       "      <td>2868.284607</td>\n",
       "      <td>236.526489</td>\n",
       "    </tr>\n",
       "  </tbody>\n",
       "</table>\n",
       "</div>"
      ],
      "text/plain": [
       "                       Patient_Week          FVC  Confidence         FVC1  \\\n",
       "1540  ID00419637202311204720264_-12  2878.173340  231.459656  2878.173340   \n",
       "1541  ID00419637202311204720264_-11  2875.701172  232.726379  2875.701172   \n",
       "1542  ID00419637202311204720264_-10  2873.229004  233.992920  2873.229004   \n",
       "1543   ID00419637202311204720264_-9  2870.756775  235.259827  2870.756775   \n",
       "1544   ID00419637202311204720264_-8  2868.284607  236.526489  2868.284607   \n",
       "\n",
       "      Confidence1  \n",
       "1540   231.459656  \n",
       "1541   232.726379  \n",
       "1542   233.992920  \n",
       "1543   235.259827  \n",
       "1544   236.526489  "
      ]
     },
     "execution_count": 66,
     "metadata": {},
     "output_type": "execute_result"
    }
   ],
   "source": [
    "subm.head()"
   ]
  },
  {
   "cell_type": "code",
   "execution_count": 67,
   "metadata": {
    "execution": {
     "iopub.execute_input": "2020-10-04T09:13:17.156461Z",
     "iopub.status.busy": "2020-10-04T09:13:17.153162Z",
     "iopub.status.idle": "2020-10-04T09:13:17.180264Z",
     "shell.execute_reply": "2020-10-04T09:13:17.179647Z"
    },
    "papermill": {
     "duration": 0.134826,
     "end_time": "2020-10-04T09:13:17.180426",
     "exception": false,
     "start_time": "2020-10-04T09:13:17.045600",
     "status": "completed"
    },
    "tags": []
   },
   "outputs": [
    {
     "data": {
      "text/html": [
       "<div>\n",
       "<style scoped>\n",
       "    .dataframe tbody tr th:only-of-type {\n",
       "        vertical-align: middle;\n",
       "    }\n",
       "\n",
       "    .dataframe tbody tr th {\n",
       "        vertical-align: top;\n",
       "    }\n",
       "\n",
       "    .dataframe thead th {\n",
       "        text-align: right;\n",
       "    }\n",
       "</style>\n",
       "<table border=\"1\" class=\"dataframe\">\n",
       "  <thead>\n",
       "    <tr style=\"text-align: right;\">\n",
       "      <th></th>\n",
       "      <th>count</th>\n",
       "      <th>mean</th>\n",
       "      <th>std</th>\n",
       "      <th>min</th>\n",
       "      <th>25%</th>\n",
       "      <th>50%</th>\n",
       "      <th>75%</th>\n",
       "      <th>max</th>\n",
       "    </tr>\n",
       "  </thead>\n",
       "  <tbody>\n",
       "    <tr>\n",
       "      <th>FVC</th>\n",
       "      <td>730.0</td>\n",
       "      <td>2650.887271</td>\n",
       "      <td>329.675947</td>\n",
       "      <td>1965.739594</td>\n",
       "      <td>2593.74791</td>\n",
       "      <td>2695.742035</td>\n",
       "      <td>2829.078583</td>\n",
       "      <td>3218.260925</td>\n",
       "    </tr>\n",
       "    <tr>\n",
       "      <th>Confidence</th>\n",
       "      <td>730.0</td>\n",
       "      <td>285.622633</td>\n",
       "      <td>50.115316</td>\n",
       "      <td>176.767853</td>\n",
       "      <td>246.66774</td>\n",
       "      <td>287.314423</td>\n",
       "      <td>325.377510</td>\n",
       "      <td>382.054749</td>\n",
       "    </tr>\n",
       "    <tr>\n",
       "      <th>FVC1</th>\n",
       "      <td>730.0</td>\n",
       "      <td>2650.887271</td>\n",
       "      <td>329.675947</td>\n",
       "      <td>1965.739594</td>\n",
       "      <td>2593.74791</td>\n",
       "      <td>2695.742035</td>\n",
       "      <td>2829.078583</td>\n",
       "      <td>3218.260925</td>\n",
       "    </tr>\n",
       "    <tr>\n",
       "      <th>Confidence1</th>\n",
       "      <td>730.0</td>\n",
       "      <td>285.622633</td>\n",
       "      <td>50.115316</td>\n",
       "      <td>176.767853</td>\n",
       "      <td>246.66774</td>\n",
       "      <td>287.314423</td>\n",
       "      <td>325.377510</td>\n",
       "      <td>382.054749</td>\n",
       "    </tr>\n",
       "  </tbody>\n",
       "</table>\n",
       "</div>"
      ],
      "text/plain": [
       "             count         mean         std          min         25%  \\\n",
       "FVC          730.0  2650.887271  329.675947  1965.739594  2593.74791   \n",
       "Confidence   730.0   285.622633   50.115316   176.767853   246.66774   \n",
       "FVC1         730.0  2650.887271  329.675947  1965.739594  2593.74791   \n",
       "Confidence1  730.0   285.622633   50.115316   176.767853   246.66774   \n",
       "\n",
       "                     50%          75%          max  \n",
       "FVC          2695.742035  2829.078583  3218.260925  \n",
       "Confidence    287.314423   325.377510   382.054749  \n",
       "FVC1         2695.742035  2829.078583  3218.260925  \n",
       "Confidence1   287.314423   325.377510   382.054749  "
      ]
     },
     "execution_count": 67,
     "metadata": {},
     "output_type": "execute_result"
    }
   ],
   "source": [
    "subm.describe().T"
   ]
  },
  {
   "cell_type": "code",
   "execution_count": 68,
   "metadata": {
    "execution": {
     "iopub.execute_input": "2020-10-04T09:13:17.474304Z",
     "iopub.status.busy": "2020-10-04T09:13:17.473331Z",
     "iopub.status.idle": "2020-10-04T09:13:17.534958Z",
     "shell.execute_reply": "2020-10-04T09:13:17.535988Z"
    },
    "papermill": {
     "duration": 0.232548,
     "end_time": "2020-10-04T09:13:17.536195",
     "exception": false,
     "start_time": "2020-10-04T09:13:17.303647",
     "status": "completed"
    },
    "tags": []
   },
   "outputs": [],
   "source": [
    "otest = pd.read_csv('../input/osic-pulmonary-fibrosis-progression/test.csv')\n",
    "for i in range(len(otest)):\n",
    "    subm.loc[subm['Patient_Week']==otest.Patient[i]+'_'+str(otest.Weeks[i]), 'FVC'] = otest.FVC[i]\n",
    "    subm.loc[subm['Patient_Week']==otest.Patient[i]+'_'+str(otest.Weeks[i]), 'Confidence'] = 0.1"
   ]
  },
  {
   "cell_type": "code",
   "execution_count": 69,
   "metadata": {
    "execution": {
     "iopub.execute_input": "2020-10-04T09:13:17.908038Z",
     "iopub.status.busy": "2020-10-04T09:13:17.904807Z",
     "iopub.status.idle": "2020-10-04T09:13:17.909011Z",
     "shell.execute_reply": "2020-10-04T09:13:17.906172Z"
    },
    "papermill": {
     "duration": 0.179618,
     "end_time": "2020-10-04T09:13:17.909193",
     "exception": false,
     "start_time": "2020-10-04T09:13:17.729575",
     "status": "completed"
    },
    "tags": []
   },
   "outputs": [],
   "source": [
    "#subm[[\"Patient_Week\",\"FVC\",\"Confidence\"]].to_csv(\"submission_regression.csv\", index=False)"
   ]
  },
  {
   "cell_type": "code",
   "execution_count": 70,
   "metadata": {
    "execution": {
     "iopub.execute_input": "2020-10-04T09:13:18.136118Z",
     "iopub.status.busy": "2020-10-04T09:13:18.135179Z",
     "iopub.status.idle": "2020-10-04T09:13:18.138862Z",
     "shell.execute_reply": "2020-10-04T09:13:18.138336Z"
    },
    "papermill": {
     "duration": 0.109261,
     "end_time": "2020-10-04T09:13:18.138962",
     "exception": false,
     "start_time": "2020-10-04T09:13:18.029701",
     "status": "completed"
    },
    "tags": []
   },
   "outputs": [],
   "source": [
    "reg_sub = subm[[\"Patient_Week\",\"FVC\",\"Confidence\"]].copy()"
   ]
  },
  {
   "cell_type": "code",
   "execution_count": 71,
   "metadata": {
    "execution": {
     "iopub.execute_input": "2020-10-04T09:13:18.345687Z",
     "iopub.status.busy": "2020-10-04T09:13:18.344589Z",
     "iopub.status.idle": "2020-10-04T09:13:18.361145Z",
     "shell.execute_reply": "2020-10-04T09:13:18.360430Z"
    },
    "papermill": {
     "duration": 0.123434,
     "end_time": "2020-10-04T09:13:18.361258",
     "exception": false,
     "start_time": "2020-10-04T09:13:18.237824",
     "status": "completed"
    },
    "tags": []
   },
   "outputs": [
    {
     "data": {
      "text/html": [
       "<div>\n",
       "<style scoped>\n",
       "    .dataframe tbody tr th:only-of-type {\n",
       "        vertical-align: middle;\n",
       "    }\n",
       "\n",
       "    .dataframe tbody tr th {\n",
       "        vertical-align: top;\n",
       "    }\n",
       "\n",
       "    .dataframe thead th {\n",
       "        text-align: right;\n",
       "    }\n",
       "</style>\n",
       "<table border=\"1\" class=\"dataframe\">\n",
       "  <thead>\n",
       "    <tr style=\"text-align: right;\">\n",
       "      <th></th>\n",
       "      <th>FVC</th>\n",
       "      <th>Confidence</th>\n",
       "    </tr>\n",
       "  </thead>\n",
       "  <tbody>\n",
       "    <tr>\n",
       "      <th>count</th>\n",
       "      <td>730.000000</td>\n",
       "      <td>730.000000</td>\n",
       "    </tr>\n",
       "    <tr>\n",
       "      <th>mean</th>\n",
       "      <td>2651.120542</td>\n",
       "      <td>284.055233</td>\n",
       "    </tr>\n",
       "    <tr>\n",
       "      <th>std</th>\n",
       "      <td>330.925481</td>\n",
       "      <td>55.166038</td>\n",
       "    </tr>\n",
       "    <tr>\n",
       "      <th>min</th>\n",
       "      <td>1930.000000</td>\n",
       "      <td>0.100000</td>\n",
       "    </tr>\n",
       "    <tr>\n",
       "      <th>25%</th>\n",
       "      <td>2593.747910</td>\n",
       "      <td>246.074005</td>\n",
       "    </tr>\n",
       "    <tr>\n",
       "      <th>50%</th>\n",
       "      <td>2695.742035</td>\n",
       "      <td>287.314423</td>\n",
       "    </tr>\n",
       "    <tr>\n",
       "      <th>75%</th>\n",
       "      <td>2830.685181</td>\n",
       "      <td>325.377510</td>\n",
       "    </tr>\n",
       "    <tr>\n",
       "      <th>max</th>\n",
       "      <td>3294.000000</td>\n",
       "      <td>382.054749</td>\n",
       "    </tr>\n",
       "  </tbody>\n",
       "</table>\n",
       "</div>"
      ],
      "text/plain": [
       "               FVC  Confidence\n",
       "count   730.000000  730.000000\n",
       "mean   2651.120542  284.055233\n",
       "std     330.925481   55.166038\n",
       "min    1930.000000    0.100000\n",
       "25%    2593.747910  246.074005\n",
       "50%    2695.742035  287.314423\n",
       "75%    2830.685181  325.377510\n",
       "max    3294.000000  382.054749"
      ]
     },
     "execution_count": 71,
     "metadata": {},
     "output_type": "execute_result"
    }
   ],
   "source": [
    "reg_sub.describe()"
   ]
  },
  {
   "cell_type": "markdown",
   "metadata": {
    "papermill": {
     "duration": 0.099548,
     "end_time": "2020-10-04T09:13:18.570551",
     "exception": false,
     "start_time": "2020-10-04T09:13:18.471003",
     "status": "completed"
    },
    "tags": []
   },
   "source": [
    "## 4.4 Ensemble and blending <a class=\"anchor\" id=\"4.4\"></a>\n",
    "\n",
    "[Back to Table of Contents](#0.1)"
   ]
  },
  {
   "cell_type": "code",
   "execution_count": 72,
   "metadata": {
    "execution": {
     "iopub.execute_input": "2020-10-04T09:13:18.776056Z",
     "iopub.status.busy": "2020-10-04T09:13:18.772546Z",
     "iopub.status.idle": "2020-10-04T09:13:18.778688Z",
     "shell.execute_reply": "2020-10-04T09:13:18.778209Z"
    },
    "papermill": {
     "duration": 0.110942,
     "end_time": "2020-10-04T09:13:18.778809",
     "exception": false,
     "start_time": "2020-10-04T09:13:18.667867",
     "status": "completed"
    },
    "tags": []
   },
   "outputs": [],
   "source": [
    "df1 = img_sub.sort_values(by=['Patient_Week'], ascending=True).reset_index(drop=True)\n",
    "df2 = reg_sub.sort_values(by=['Patient_Week'], ascending=True).reset_index(drop=True)"
   ]
  },
  {
   "cell_type": "code",
   "execution_count": 73,
   "metadata": {
    "execution": {
     "iopub.execute_input": "2020-10-04T09:13:18.987268Z",
     "iopub.status.busy": "2020-10-04T09:13:18.986399Z",
     "iopub.status.idle": "2020-10-04T09:13:18.990782Z",
     "shell.execute_reply": "2020-10-04T09:13:18.991323Z"
    },
    "papermill": {
     "duration": 0.114005,
     "end_time": "2020-10-04T09:13:18.991553",
     "exception": false,
     "start_time": "2020-10-04T09:13:18.877548",
     "status": "completed"
    },
    "tags": []
   },
   "outputs": [
    {
     "data": {
      "text/html": [
       "<div>\n",
       "<style scoped>\n",
       "    .dataframe tbody tr th:only-of-type {\n",
       "        vertical-align: middle;\n",
       "    }\n",
       "\n",
       "    .dataframe tbody tr th {\n",
       "        vertical-align: top;\n",
       "    }\n",
       "\n",
       "    .dataframe thead th {\n",
       "        text-align: right;\n",
       "    }\n",
       "</style>\n",
       "<table border=\"1\" class=\"dataframe\">\n",
       "  <thead>\n",
       "    <tr style=\"text-align: right;\">\n",
       "      <th></th>\n",
       "      <th>Patient_Week</th>\n",
       "      <th>FVC</th>\n",
       "      <th>Confidence</th>\n",
       "    </tr>\n",
       "  </thead>\n",
       "  <tbody>\n",
       "    <tr>\n",
       "      <th>0</th>\n",
       "      <td>ID00419637202311204720264_-1</td>\n",
       "      <td>3056.406955</td>\n",
       "      <td>106.593810</td>\n",
       "    </tr>\n",
       "    <tr>\n",
       "      <th>1</th>\n",
       "      <td>ID00419637202311204720264_-10</td>\n",
       "      <td>3103.215897</td>\n",
       "      <td>153.402752</td>\n",
       "    </tr>\n",
       "    <tr>\n",
       "      <th>2</th>\n",
       "      <td>ID00419637202311204720264_-11</td>\n",
       "      <td>3108.416890</td>\n",
       "      <td>158.603745</td>\n",
       "    </tr>\n",
       "    <tr>\n",
       "      <th>3</th>\n",
       "      <td>ID00419637202311204720264_-12</td>\n",
       "      <td>3113.617884</td>\n",
       "      <td>163.804739</td>\n",
       "    </tr>\n",
       "    <tr>\n",
       "      <th>4</th>\n",
       "      <td>ID00419637202311204720264_-2</td>\n",
       "      <td>3061.607948</td>\n",
       "      <td>111.794803</td>\n",
       "    </tr>\n",
       "  </tbody>\n",
       "</table>\n",
       "</div>"
      ],
      "text/plain": [
       "                    Patient_Week          FVC  Confidence\n",
       "0   ID00419637202311204720264_-1  3056.406955  106.593810\n",
       "1  ID00419637202311204720264_-10  3103.215897  153.402752\n",
       "2  ID00419637202311204720264_-11  3108.416890  158.603745\n",
       "3  ID00419637202311204720264_-12  3113.617884  163.804739\n",
       "4   ID00419637202311204720264_-2  3061.607948  111.794803"
      ]
     },
     "execution_count": 73,
     "metadata": {},
     "output_type": "execute_result"
    }
   ],
   "source": [
    "df1.head()"
   ]
  },
  {
   "cell_type": "code",
   "execution_count": 74,
   "metadata": {
    "execution": {
     "iopub.execute_input": "2020-10-04T09:13:19.212725Z",
     "iopub.status.busy": "2020-10-04T09:13:19.211009Z",
     "iopub.status.idle": "2020-10-04T09:13:19.215273Z",
     "shell.execute_reply": "2020-10-04T09:13:19.215910Z"
    },
    "papermill": {
     "duration": 0.118058,
     "end_time": "2020-10-04T09:13:19.216056",
     "exception": false,
     "start_time": "2020-10-04T09:13:19.097998",
     "status": "completed"
    },
    "tags": []
   },
   "outputs": [
    {
     "data": {
      "text/html": [
       "<div>\n",
       "<style scoped>\n",
       "    .dataframe tbody tr th:only-of-type {\n",
       "        vertical-align: middle;\n",
       "    }\n",
       "\n",
       "    .dataframe tbody tr th {\n",
       "        vertical-align: top;\n",
       "    }\n",
       "\n",
       "    .dataframe thead th {\n",
       "        text-align: right;\n",
       "    }\n",
       "</style>\n",
       "<table border=\"1\" class=\"dataframe\">\n",
       "  <thead>\n",
       "    <tr style=\"text-align: right;\">\n",
       "      <th></th>\n",
       "      <th>Patient_Week</th>\n",
       "      <th>FVC</th>\n",
       "      <th>Confidence</th>\n",
       "    </tr>\n",
       "  </thead>\n",
       "  <tbody>\n",
       "    <tr>\n",
       "      <th>0</th>\n",
       "      <td>ID00419637202311204720264_-1</td>\n",
       "      <td>2850.979370</td>\n",
       "      <td>245.393433</td>\n",
       "    </tr>\n",
       "    <tr>\n",
       "      <th>1</th>\n",
       "      <td>ID00419637202311204720264_-10</td>\n",
       "      <td>2873.229004</td>\n",
       "      <td>233.992920</td>\n",
       "    </tr>\n",
       "    <tr>\n",
       "      <th>2</th>\n",
       "      <td>ID00419637202311204720264_-11</td>\n",
       "      <td>2875.701172</td>\n",
       "      <td>232.726379</td>\n",
       "    </tr>\n",
       "    <tr>\n",
       "      <th>3</th>\n",
       "      <td>ID00419637202311204720264_-12</td>\n",
       "      <td>2878.173340</td>\n",
       "      <td>231.459656</td>\n",
       "    </tr>\n",
       "    <tr>\n",
       "      <th>4</th>\n",
       "      <td>ID00419637202311204720264_-2</td>\n",
       "      <td>2853.451599</td>\n",
       "      <td>244.126770</td>\n",
       "    </tr>\n",
       "  </tbody>\n",
       "</table>\n",
       "</div>"
      ],
      "text/plain": [
       "                    Patient_Week          FVC  Confidence\n",
       "0   ID00419637202311204720264_-1  2850.979370  245.393433\n",
       "1  ID00419637202311204720264_-10  2873.229004  233.992920\n",
       "2  ID00419637202311204720264_-11  2875.701172  232.726379\n",
       "3  ID00419637202311204720264_-12  2878.173340  231.459656\n",
       "4   ID00419637202311204720264_-2  2853.451599  244.126770"
      ]
     },
     "execution_count": 74,
     "metadata": {},
     "output_type": "execute_result"
    }
   ],
   "source": [
    "df2.head()"
   ]
  },
  {
   "cell_type": "code",
   "execution_count": 75,
   "metadata": {
    "execution": {
     "iopub.execute_input": "2020-10-04T09:13:19.424591Z",
     "iopub.status.busy": "2020-10-04T09:13:19.421811Z",
     "iopub.status.idle": "2020-10-04T09:13:19.438033Z",
     "shell.execute_reply": "2020-10-04T09:13:19.437431Z"
    },
    "papermill": {
     "duration": 0.123612,
     "end_time": "2020-10-04T09:13:19.438141",
     "exception": false,
     "start_time": "2020-10-04T09:13:19.314529",
     "status": "completed"
    },
    "tags": []
   },
   "outputs": [
    {
     "data": {
      "text/html": [
       "<div>\n",
       "<style scoped>\n",
       "    .dataframe tbody tr th:only-of-type {\n",
       "        vertical-align: middle;\n",
       "    }\n",
       "\n",
       "    .dataframe tbody tr th {\n",
       "        vertical-align: top;\n",
       "    }\n",
       "\n",
       "    .dataframe thead th {\n",
       "        text-align: right;\n",
       "    }\n",
       "</style>\n",
       "<table border=\"1\" class=\"dataframe\">\n",
       "  <thead>\n",
       "    <tr style=\"text-align: right;\">\n",
       "      <th></th>\n",
       "      <th>FVC</th>\n",
       "      <th>Confidence</th>\n",
       "    </tr>\n",
       "  </thead>\n",
       "  <tbody>\n",
       "    <tr>\n",
       "      <th>count</th>\n",
       "      <td>730.000000</td>\n",
       "      <td>730.000000</td>\n",
       "    </tr>\n",
       "    <tr>\n",
       "      <th>mean</th>\n",
       "      <td>2562.140675</td>\n",
       "      <td>309.688861</td>\n",
       "    </tr>\n",
       "    <tr>\n",
       "      <th>std</th>\n",
       "      <td>502.231695</td>\n",
       "      <td>165.034720</td>\n",
       "    </tr>\n",
       "    <tr>\n",
       "      <th>min</th>\n",
       "      <td>1403.276100</td>\n",
       "      <td>70.186855</td>\n",
       "    </tr>\n",
       "    <tr>\n",
       "      <th>25%</th>\n",
       "      <td>2380.824977</td>\n",
       "      <td>157.767364</td>\n",
       "    </tr>\n",
       "    <tr>\n",
       "      <th>50%</th>\n",
       "      <td>2658.533329</td>\n",
       "      <td>292.908452</td>\n",
       "    </tr>\n",
       "    <tr>\n",
       "      <th>75%</th>\n",
       "      <td>2909.170856</td>\n",
       "      <td>445.510072</td>\n",
       "    </tr>\n",
       "    <tr>\n",
       "      <th>max</th>\n",
       "      <td>3409.895878</td>\n",
       "      <td>730.713034</td>\n",
       "    </tr>\n",
       "  </tbody>\n",
       "</table>\n",
       "</div>"
      ],
      "text/plain": [
       "               FVC  Confidence\n",
       "count   730.000000  730.000000\n",
       "mean   2562.140675  309.688861\n",
       "std     502.231695  165.034720\n",
       "min    1403.276100   70.186855\n",
       "25%    2380.824977  157.767364\n",
       "50%    2658.533329  292.908452\n",
       "75%    2909.170856  445.510072\n",
       "max    3409.895878  730.713034"
      ]
     },
     "execution_count": 75,
     "metadata": {},
     "output_type": "execute_result"
    }
   ],
   "source": [
    "df1.describe()"
   ]
  },
  {
   "cell_type": "code",
   "execution_count": 76,
   "metadata": {
    "execution": {
     "iopub.execute_input": "2020-10-04T09:13:19.684585Z",
     "iopub.status.busy": "2020-10-04T09:13:19.674646Z",
     "iopub.status.idle": "2020-10-04T09:13:19.688056Z",
     "shell.execute_reply": "2020-10-04T09:13:19.688606Z"
    },
    "papermill": {
     "duration": 0.133659,
     "end_time": "2020-10-04T09:13:19.688820",
     "exception": false,
     "start_time": "2020-10-04T09:13:19.555161",
     "status": "completed"
    },
    "tags": []
   },
   "outputs": [
    {
     "data": {
      "text/html": [
       "<div>\n",
       "<style scoped>\n",
       "    .dataframe tbody tr th:only-of-type {\n",
       "        vertical-align: middle;\n",
       "    }\n",
       "\n",
       "    .dataframe tbody tr th {\n",
       "        vertical-align: top;\n",
       "    }\n",
       "\n",
       "    .dataframe thead th {\n",
       "        text-align: right;\n",
       "    }\n",
       "</style>\n",
       "<table border=\"1\" class=\"dataframe\">\n",
       "  <thead>\n",
       "    <tr style=\"text-align: right;\">\n",
       "      <th></th>\n",
       "      <th>FVC</th>\n",
       "      <th>Confidence</th>\n",
       "    </tr>\n",
       "  </thead>\n",
       "  <tbody>\n",
       "    <tr>\n",
       "      <th>count</th>\n",
       "      <td>730.000000</td>\n",
       "      <td>730.000000</td>\n",
       "    </tr>\n",
       "    <tr>\n",
       "      <th>mean</th>\n",
       "      <td>2651.120542</td>\n",
       "      <td>284.055233</td>\n",
       "    </tr>\n",
       "    <tr>\n",
       "      <th>std</th>\n",
       "      <td>330.925481</td>\n",
       "      <td>55.166038</td>\n",
       "    </tr>\n",
       "    <tr>\n",
       "      <th>min</th>\n",
       "      <td>1930.000000</td>\n",
       "      <td>0.100000</td>\n",
       "    </tr>\n",
       "    <tr>\n",
       "      <th>25%</th>\n",
       "      <td>2593.747910</td>\n",
       "      <td>246.074005</td>\n",
       "    </tr>\n",
       "    <tr>\n",
       "      <th>50%</th>\n",
       "      <td>2695.742035</td>\n",
       "      <td>287.314423</td>\n",
       "    </tr>\n",
       "    <tr>\n",
       "      <th>75%</th>\n",
       "      <td>2830.685181</td>\n",
       "      <td>325.377510</td>\n",
       "    </tr>\n",
       "    <tr>\n",
       "      <th>max</th>\n",
       "      <td>3294.000000</td>\n",
       "      <td>382.054749</td>\n",
       "    </tr>\n",
       "  </tbody>\n",
       "</table>\n",
       "</div>"
      ],
      "text/plain": [
       "               FVC  Confidence\n",
       "count   730.000000  730.000000\n",
       "mean   2651.120542  284.055233\n",
       "std     330.925481   55.166038\n",
       "min    1930.000000    0.100000\n",
       "25%    2593.747910  246.074005\n",
       "50%    2695.742035  287.314423\n",
       "75%    2830.685181  325.377510\n",
       "max    3294.000000  382.054749"
      ]
     },
     "execution_count": 76,
     "metadata": {},
     "output_type": "execute_result"
    }
   ],
   "source": [
    "df2.describe()"
   ]
  },
  {
   "cell_type": "markdown",
   "metadata": {
    "papermill": {
     "duration": 0.108037,
     "end_time": "2020-10-04T09:13:19.908399",
     "exception": false,
     "start_time": "2020-10-04T09:13:19.800362",
     "status": "completed"
    },
    "tags": []
   },
   "source": [
    "## This is the step where the 2 submissions are blended - if there is a NAN in the Effnet predictions submission (df1) then it fills them with 0."
   ]
  },
  {
   "cell_type": "code",
   "execution_count": 77,
   "metadata": {
    "execution": {
     "iopub.execute_input": "2020-10-04T09:13:20.138175Z",
     "iopub.status.busy": "2020-10-04T09:13:20.136601Z",
     "iopub.status.idle": "2020-10-04T09:13:20.140797Z",
     "shell.execute_reply": "2020-10-04T09:13:20.141325Z"
    },
    "papermill": {
     "duration": 0.131395,
     "end_time": "2020-10-04T09:13:20.141491",
     "exception": false,
     "start_time": "2020-10-04T09:13:20.010096",
     "status": "completed"
    },
    "tags": []
   },
   "outputs": [
    {
     "data": {
      "text/html": [
       "<div>\n",
       "<style scoped>\n",
       "    .dataframe tbody tr th:only-of-type {\n",
       "        vertical-align: middle;\n",
       "    }\n",
       "\n",
       "    .dataframe tbody tr th {\n",
       "        vertical-align: top;\n",
       "    }\n",
       "\n",
       "    .dataframe thead th {\n",
       "        text-align: right;\n",
       "    }\n",
       "</style>\n",
       "<table border=\"1\" class=\"dataframe\">\n",
       "  <thead>\n",
       "    <tr style=\"text-align: right;\">\n",
       "      <th></th>\n",
       "      <th>Patient_Week</th>\n",
       "      <th>FVC</th>\n",
       "      <th>Confidence</th>\n",
       "    </tr>\n",
       "  </thead>\n",
       "  <tbody>\n",
       "    <tr>\n",
       "      <th>0</th>\n",
       "      <td>ID00419637202311204720264_-1</td>\n",
       "      <td>2892.064887</td>\n",
       "      <td>217.633508</td>\n",
       "    </tr>\n",
       "    <tr>\n",
       "      <th>1</th>\n",
       "      <td>ID00419637202311204720264_-10</td>\n",
       "      <td>2919.226382</td>\n",
       "      <td>217.874886</td>\n",
       "    </tr>\n",
       "    <tr>\n",
       "      <th>2</th>\n",
       "      <td>ID00419637202311204720264_-11</td>\n",
       "      <td>2922.244316</td>\n",
       "      <td>217.901853</td>\n",
       "    </tr>\n",
       "    <tr>\n",
       "      <th>3</th>\n",
       "      <td>ID00419637202311204720264_-12</td>\n",
       "      <td>2925.262249</td>\n",
       "      <td>217.928672</td>\n",
       "    </tr>\n",
       "    <tr>\n",
       "      <th>4</th>\n",
       "      <td>ID00419637202311204720264_-2</td>\n",
       "      <td>2895.082869</td>\n",
       "      <td>217.660377</td>\n",
       "    </tr>\n",
       "  </tbody>\n",
       "</table>\n",
       "</div>"
      ],
      "text/plain": [
       "                    Patient_Week          FVC  Confidence\n",
       "0   ID00419637202311204720264_-1  2892.064887  217.633508\n",
       "1  ID00419637202311204720264_-10  2919.226382  217.874886\n",
       "2  ID00419637202311204720264_-11  2922.244316  217.901853\n",
       "3  ID00419637202311204720264_-12  2925.262249  217.928672\n",
       "4   ID00419637202311204720264_-2  2895.082869  217.660377"
      ]
     },
     "execution_count": 77,
     "metadata": {},
     "output_type": "execute_result"
    }
   ],
   "source": [
    "\n",
    "df = df2[['Patient_Week','FVC','Confidence']].copy()\n",
    "df['FVC'] = FVC_weight*df1['FVC'] + (1-FVC_weight)*df2['FVC']\n",
    "df['Confidence'] = Confidence_weight*df1['Confidence'] + (1-Confidence_weight)*df2['Confidence']\n",
    "df.head()\n"
   ]
  },
  {
   "cell_type": "code",
   "execution_count": 78,
   "metadata": {
    "execution": {
     "iopub.execute_input": "2020-10-04T09:13:20.361657Z",
     "iopub.status.busy": "2020-10-04T09:13:20.360633Z",
     "iopub.status.idle": "2020-10-04T09:13:20.487977Z",
     "shell.execute_reply": "2020-10-04T09:13:20.486999Z"
    },
    "papermill": {
     "duration": 0.234027,
     "end_time": "2020-10-04T09:13:20.488107",
     "exception": false,
     "start_time": "2020-10-04T09:13:20.254080",
     "status": "completed"
    },
    "tags": []
   },
   "outputs": [],
   "source": [
    "#df2.to_csv('submission.csv', index=False)\n",
    "df.to_csv('submission.csv', index=False)"
   ]
  },
  {
   "cell_type": "code",
   "execution_count": 79,
   "metadata": {
    "execution": {
     "iopub.execute_input": "2020-10-04T09:13:20.699177Z",
     "iopub.status.busy": "2020-10-04T09:13:20.697666Z",
     "iopub.status.idle": "2020-10-04T09:13:20.701453Z",
     "shell.execute_reply": "2020-10-04T09:13:20.701997Z"
    },
    "papermill": {
     "duration": 0.111134,
     "end_time": "2020-10-04T09:13:20.702136",
     "exception": false,
     "start_time": "2020-10-04T09:13:20.591002",
     "status": "completed"
    },
    "tags": []
   },
   "outputs": [
    {
     "data": {
      "text/plain": [
       "\"\\ndf['Patient'] = df['Patient_Week'].apply(lambda x:x.split('_')[0])\\ndf['Weeks'] = df['Patient_Week'].apply(lambda x: int(x.split('_')[-1]))\\n\""
      ]
     },
     "execution_count": 79,
     "metadata": {},
     "output_type": "execute_result"
    }
   ],
   "source": [
    "\"\"\"\n",
    "df['Patient'] = df['Patient_Week'].apply(lambda x:x.split('_')[0])\n",
    "df['Weeks'] = df['Patient_Week'].apply(lambda x: int(x.split('_')[-1]))\n",
    "\"\"\""
   ]
  },
  {
   "cell_type": "code",
   "execution_count": 80,
   "metadata": {
    "execution": {
     "iopub.execute_input": "2020-10-04T09:13:20.907288Z",
     "iopub.status.busy": "2020-10-04T09:13:20.906605Z",
     "iopub.status.idle": "2020-10-04T09:13:20.910427Z",
     "shell.execute_reply": "2020-10-04T09:13:20.911555Z"
    },
    "papermill": {
     "duration": 0.109036,
     "end_time": "2020-10-04T09:13:20.911702",
     "exception": false,
     "start_time": "2020-10-04T09:13:20.802666",
     "status": "completed"
    },
    "tags": []
   },
   "outputs": [],
   "source": [
    "#df.Weeks.min()"
   ]
  },
  {
   "cell_type": "code",
   "execution_count": 81,
   "metadata": {
    "execution": {
     "iopub.execute_input": "2020-10-04T09:13:21.122182Z",
     "iopub.status.busy": "2020-10-04T09:13:21.121206Z",
     "iopub.status.idle": "2020-10-04T09:13:21.123686Z",
     "shell.execute_reply": "2020-10-04T09:13:21.124226Z"
    },
    "papermill": {
     "duration": 0.110386,
     "end_time": "2020-10-04T09:13:21.124356",
     "exception": false,
     "start_time": "2020-10-04T09:13:21.013970",
     "status": "completed"
    },
    "tags": []
   },
   "outputs": [],
   "source": [
    "#df.FVC.min()"
   ]
  },
  {
   "cell_type": "code",
   "execution_count": 82,
   "metadata": {
    "execution": {
     "iopub.execute_input": "2020-10-04T09:13:21.335709Z",
     "iopub.status.busy": "2020-10-04T09:13:21.334575Z",
     "iopub.status.idle": "2020-10-04T09:13:21.360344Z",
     "shell.execute_reply": "2020-10-04T09:13:21.359720Z"
    },
    "papermill": {
     "duration": 0.134237,
     "end_time": "2020-10-04T09:13:21.360473",
     "exception": false,
     "start_time": "2020-10-04T09:13:21.226236",
     "status": "completed"
    },
    "tags": []
   },
   "outputs": [
    {
     "data": {
      "text/html": [
       "<div>\n",
       "<style scoped>\n",
       "    .dataframe tbody tr th:only-of-type {\n",
       "        vertical-align: middle;\n",
       "    }\n",
       "\n",
       "    .dataframe tbody tr th {\n",
       "        vertical-align: top;\n",
       "    }\n",
       "\n",
       "    .dataframe thead th {\n",
       "        text-align: right;\n",
       "    }\n",
       "</style>\n",
       "<table border=\"1\" class=\"dataframe\">\n",
       "  <thead>\n",
       "    <tr style=\"text-align: right;\">\n",
       "      <th></th>\n",
       "      <th>FVC</th>\n",
       "      <th>Confidence</th>\n",
       "    </tr>\n",
       "  </thead>\n",
       "  <tbody>\n",
       "    <tr>\n",
       "      <th>count</th>\n",
       "      <td>730.0</td>\n",
       "      <td>730.0</td>\n",
       "    </tr>\n",
       "    <tr>\n",
       "      <th>mean</th>\n",
       "      <td>2000.0</td>\n",
       "      <td>100.0</td>\n",
       "    </tr>\n",
       "    <tr>\n",
       "      <th>std</th>\n",
       "      <td>0.0</td>\n",
       "      <td>0.0</td>\n",
       "    </tr>\n",
       "    <tr>\n",
       "      <th>min</th>\n",
       "      <td>2000.0</td>\n",
       "      <td>100.0</td>\n",
       "    </tr>\n",
       "    <tr>\n",
       "      <th>25%</th>\n",
       "      <td>2000.0</td>\n",
       "      <td>100.0</td>\n",
       "    </tr>\n",
       "    <tr>\n",
       "      <th>50%</th>\n",
       "      <td>2000.0</td>\n",
       "      <td>100.0</td>\n",
       "    </tr>\n",
       "    <tr>\n",
       "      <th>75%</th>\n",
       "      <td>2000.0</td>\n",
       "      <td>100.0</td>\n",
       "    </tr>\n",
       "    <tr>\n",
       "      <th>max</th>\n",
       "      <td>2000.0</td>\n",
       "      <td>100.0</td>\n",
       "    </tr>\n",
       "  </tbody>\n",
       "</table>\n",
       "</div>"
      ],
      "text/plain": [
       "          FVC  Confidence\n",
       "count   730.0       730.0\n",
       "mean   2000.0       100.0\n",
       "std       0.0         0.0\n",
       "min    2000.0       100.0\n",
       "25%    2000.0       100.0\n",
       "50%    2000.0       100.0\n",
       "75%    2000.0       100.0\n",
       "max    2000.0       100.0"
      ]
     },
     "execution_count": 82,
     "metadata": {},
     "output_type": "execute_result"
    }
   ],
   "source": [
    "\n",
    "\n",
    "sample = pd.read_csv(f\"{ROOT}/sample_submission.csv\")\n",
    "sample.describe()\n"
   ]
  },
  {
   "cell_type": "code",
   "execution_count": 83,
   "metadata": {
    "execution": {
     "iopub.execute_input": "2020-10-04T09:13:21.599122Z",
     "iopub.status.busy": "2020-10-04T09:13:21.598319Z",
     "iopub.status.idle": "2020-10-04T09:13:21.604532Z",
     "shell.execute_reply": "2020-10-04T09:13:21.605169Z"
    },
    "papermill": {
     "duration": 0.13104,
     "end_time": "2020-10-04T09:13:21.605350",
     "exception": false,
     "start_time": "2020-10-04T09:13:21.474310",
     "status": "completed"
    },
    "tags": []
   },
   "outputs": [
    {
     "data": {
      "text/html": [
       "<div>\n",
       "<style scoped>\n",
       "    .dataframe tbody tr th:only-of-type {\n",
       "        vertical-align: middle;\n",
       "    }\n",
       "\n",
       "    .dataframe tbody tr th {\n",
       "        vertical-align: top;\n",
       "    }\n",
       "\n",
       "    .dataframe thead th {\n",
       "        text-align: right;\n",
       "    }\n",
       "</style>\n",
       "<table border=\"1\" class=\"dataframe\">\n",
       "  <thead>\n",
       "    <tr style=\"text-align: right;\">\n",
       "      <th></th>\n",
       "      <th>Patient_Week</th>\n",
       "      <th>FVC</th>\n",
       "      <th>Confidence</th>\n",
       "    </tr>\n",
       "  </thead>\n",
       "  <tbody>\n",
       "    <tr>\n",
       "      <th>0</th>\n",
       "      <td>ID00419637202311204720264_-12</td>\n",
       "      <td>2000</td>\n",
       "      <td>100</td>\n",
       "    </tr>\n",
       "    <tr>\n",
       "      <th>1</th>\n",
       "      <td>ID00421637202311550012437_-12</td>\n",
       "      <td>2000</td>\n",
       "      <td>100</td>\n",
       "    </tr>\n",
       "    <tr>\n",
       "      <th>2</th>\n",
       "      <td>ID00422637202311677017371_-12</td>\n",
       "      <td>2000</td>\n",
       "      <td>100</td>\n",
       "    </tr>\n",
       "    <tr>\n",
       "      <th>3</th>\n",
       "      <td>ID00423637202312137826377_-12</td>\n",
       "      <td>2000</td>\n",
       "      <td>100</td>\n",
       "    </tr>\n",
       "    <tr>\n",
       "      <th>4</th>\n",
       "      <td>ID00426637202313170790466_-12</td>\n",
       "      <td>2000</td>\n",
       "      <td>100</td>\n",
       "    </tr>\n",
       "  </tbody>\n",
       "</table>\n",
       "</div>"
      ],
      "text/plain": [
       "                    Patient_Week   FVC  Confidence\n",
       "0  ID00419637202311204720264_-12  2000         100\n",
       "1  ID00421637202311550012437_-12  2000         100\n",
       "2  ID00422637202311677017371_-12  2000         100\n",
       "3  ID00423637202312137826377_-12  2000         100\n",
       "4  ID00426637202313170790466_-12  2000         100"
      ]
     },
     "execution_count": 83,
     "metadata": {},
     "output_type": "execute_result"
    }
   ],
   "source": [
    "sample.head()"
   ]
  },
  {
   "cell_type": "code",
   "execution_count": 84,
   "metadata": {
    "execution": {
     "iopub.execute_input": "2020-10-04T09:13:21.828569Z",
     "iopub.status.busy": "2020-10-04T09:13:21.827910Z",
     "iopub.status.idle": "2020-10-04T09:13:21.832747Z",
     "shell.execute_reply": "2020-10-04T09:13:21.832176Z"
    },
    "papermill": {
     "duration": 0.114705,
     "end_time": "2020-10-04T09:13:21.832863",
     "exception": false,
     "start_time": "2020-10-04T09:13:21.718158",
     "status": "completed"
    },
    "tags": []
   },
   "outputs": [],
   "source": [
    "#df.describe()"
   ]
  },
  {
   "cell_type": "code",
   "execution_count": null,
   "metadata": {
    "papermill": {
     "duration": 0.102059,
     "end_time": "2020-10-04T09:13:22.044036",
     "exception": false,
     "start_time": "2020-10-04T09:13:21.941977",
     "status": "completed"
    },
    "tags": []
   },
   "outputs": [],
   "source": []
  },
  {
   "cell_type": "markdown",
   "metadata": {
    "papermill": {
     "duration": 0.102548,
     "end_time": "2020-10-04T09:13:22.246947",
     "exception": false,
     "start_time": "2020-10-04T09:13:22.144399",
     "status": "completed"
    },
    "tags": []
   },
   "source": [
    "[Go to Top](#0)"
   ]
  },
  {
   "cell_type": "code",
   "execution_count": null,
   "metadata": {
    "papermill": {
     "duration": 0.100247,
     "end_time": "2020-10-04T09:13:22.446637",
     "exception": false,
     "start_time": "2020-10-04T09:13:22.346390",
     "status": "completed"
    },
    "tags": []
   },
   "outputs": [],
   "source": []
  }
 ],
 "metadata": {
  "kernelspec": {
   "display_name": "Python 3",
   "language": "python",
   "name": "python3"
  },
  "language_info": {
   "codemirror_mode": {
    "name": "ipython",
    "version": 3
   },
   "file_extension": ".py",
   "mimetype": "text/x-python",
   "name": "python",
   "nbconvert_exporter": "python",
   "pygments_lexer": "ipython3",
   "version": "3.7.6"
  },
  "papermill": {
   "duration": 422.265765,
   "end_time": "2020-10-04T09:13:23.572696",
   "environment_variables": {},
   "exception": null,
   "input_path": "__notebook__.ipynb",
   "output_path": "__notebook__.ipynb",
   "parameters": {},
   "start_time": "2020-10-04T09:06:21.306931",
   "version": "2.1.0"
  },
  "widgets": {
   "application/vnd.jupyter.widget-state+json": {
    "state": {
     "2dc51aecbc4648c596ee3035e493e9e1": {
      "model_module": "@jupyter-widgets/controls",
      "model_module_version": "1.5.0",
      "model_name": "HBoxModel",
      "state": {
       "_dom_classes": [],
       "_model_module": "@jupyter-widgets/controls",
       "_model_module_version": "1.5.0",
       "_model_name": "HBoxModel",
       "_view_count": null,
       "_view_module": "@jupyter-widgets/controls",
       "_view_module_version": "1.5.0",
       "_view_name": "HBoxView",
       "box_style": "",
       "children": [
        "IPY_MODEL_a7db82cbb6e949f8bc38cfa78ddb88fe",
        "IPY_MODEL_88f031c79fe841178aebe449cd9dc984"
       ],
       "layout": "IPY_MODEL_9d978142a23d49119d59931e84dee9a3"
      }
     },
     "4cae268558df4200a3fe9e6b83ea0905": {
      "model_module": "@jupyter-widgets/controls",
      "model_module_version": "1.5.0",
      "model_name": "ProgressStyleModel",
      "state": {
       "_model_module": "@jupyter-widgets/controls",
       "_model_module_version": "1.5.0",
       "_model_name": "ProgressStyleModel",
       "_view_count": null,
       "_view_module": "@jupyter-widgets/base",
       "_view_module_version": "1.2.0",
       "_view_name": "StyleView",
       "bar_color": null,
       "description_width": "initial"
      }
     },
     "58d2eb8361d741edaa26972a7653df99": {
      "model_module": "@jupyter-widgets/base",
      "model_module_version": "1.2.0",
      "model_name": "LayoutModel",
      "state": {
       "_model_module": "@jupyter-widgets/base",
       "_model_module_version": "1.2.0",
       "_model_name": "LayoutModel",
       "_view_count": null,
       "_view_module": "@jupyter-widgets/base",
       "_view_module_version": "1.2.0",
       "_view_name": "LayoutView",
       "align_content": null,
       "align_items": null,
       "align_self": null,
       "border": null,
       "bottom": null,
       "display": null,
       "flex": null,
       "flex_flow": null,
       "grid_area": null,
       "grid_auto_columns": null,
       "grid_auto_flow": null,
       "grid_auto_rows": null,
       "grid_column": null,
       "grid_gap": null,
       "grid_row": null,
       "grid_template_areas": null,
       "grid_template_columns": null,
       "grid_template_rows": null,
       "height": null,
       "justify_content": null,
       "justify_items": null,
       "left": null,
       "margin": null,
       "max_height": null,
       "max_width": null,
       "min_height": null,
       "min_width": null,
       "object_fit": null,
       "object_position": null,
       "order": null,
       "overflow": null,
       "overflow_x": null,
       "overflow_y": null,
       "padding": null,
       "right": null,
       "top": null,
       "visibility": null,
       "width": null
      }
     },
     "5e5f15c8a6254968b12d0e1732b136b8": {
      "model_module": "@jupyter-widgets/controls",
      "model_module_version": "1.5.0",
      "model_name": "DescriptionStyleModel",
      "state": {
       "_model_module": "@jupyter-widgets/controls",
       "_model_module_version": "1.5.0",
       "_model_name": "DescriptionStyleModel",
       "_view_count": null,
       "_view_module": "@jupyter-widgets/base",
       "_view_module_version": "1.2.0",
       "_view_name": "StyleView",
       "description_width": ""
      }
     },
     "6469379955e54d6e8f7ad5f379c78f2b": {
      "model_module": "@jupyter-widgets/base",
      "model_module_version": "1.2.0",
      "model_name": "LayoutModel",
      "state": {
       "_model_module": "@jupyter-widgets/base",
       "_model_module_version": "1.2.0",
       "_model_name": "LayoutModel",
       "_view_count": null,
       "_view_module": "@jupyter-widgets/base",
       "_view_module_version": "1.2.0",
       "_view_name": "LayoutView",
       "align_content": null,
       "align_items": null,
       "align_self": null,
       "border": null,
       "bottom": null,
       "display": null,
       "flex": null,
       "flex_flow": null,
       "grid_area": null,
       "grid_auto_columns": null,
       "grid_auto_flow": null,
       "grid_auto_rows": null,
       "grid_column": null,
       "grid_gap": null,
       "grid_row": null,
       "grid_template_areas": null,
       "grid_template_columns": null,
       "grid_template_rows": null,
       "height": null,
       "justify_content": null,
       "justify_items": null,
       "left": null,
       "margin": null,
       "max_height": null,
       "max_width": null,
       "min_height": null,
       "min_width": null,
       "object_fit": null,
       "object_position": null,
       "order": null,
       "overflow": null,
       "overflow_x": null,
       "overflow_y": null,
       "padding": null,
       "right": null,
       "top": null,
       "visibility": null,
       "width": null
      }
     },
     "88f031c79fe841178aebe449cd9dc984": {
      "model_module": "@jupyter-widgets/controls",
      "model_module_version": "1.5.0",
      "model_name": "HTMLModel",
      "state": {
       "_dom_classes": [],
       "_model_module": "@jupyter-widgets/controls",
       "_model_module_version": "1.5.0",
       "_model_name": "HTMLModel",
       "_view_count": null,
       "_view_module": "@jupyter-widgets/controls",
       "_view_module_version": "1.5.0",
       "_view_name": "HTMLView",
       "description": "",
       "description_tooltip": null,
       "layout": "IPY_MODEL_6469379955e54d6e8f7ad5f379c78f2b",
       "placeholder": "​",
       "style": "IPY_MODEL_5e5f15c8a6254968b12d0e1732b136b8",
       "value": " 176/? [00:00&lt;00:00, 376.17it/s]"
      }
     },
     "9d978142a23d49119d59931e84dee9a3": {
      "model_module": "@jupyter-widgets/base",
      "model_module_version": "1.2.0",
      "model_name": "LayoutModel",
      "state": {
       "_model_module": "@jupyter-widgets/base",
       "_model_module_version": "1.2.0",
       "_model_name": "LayoutModel",
       "_view_count": null,
       "_view_module": "@jupyter-widgets/base",
       "_view_module_version": "1.2.0",
       "_view_name": "LayoutView",
       "align_content": null,
       "align_items": null,
       "align_self": null,
       "border": null,
       "bottom": null,
       "display": null,
       "flex": null,
       "flex_flow": null,
       "grid_area": null,
       "grid_auto_columns": null,
       "grid_auto_flow": null,
       "grid_auto_rows": null,
       "grid_column": null,
       "grid_gap": null,
       "grid_row": null,
       "grid_template_areas": null,
       "grid_template_columns": null,
       "grid_template_rows": null,
       "height": null,
       "justify_content": null,
       "justify_items": null,
       "left": null,
       "margin": null,
       "max_height": null,
       "max_width": null,
       "min_height": null,
       "min_width": null,
       "object_fit": null,
       "object_position": null,
       "order": null,
       "overflow": null,
       "overflow_x": null,
       "overflow_y": null,
       "padding": null,
       "right": null,
       "top": null,
       "visibility": null,
       "width": null
      }
     },
     "a7db82cbb6e949f8bc38cfa78ddb88fe": {
      "model_module": "@jupyter-widgets/controls",
      "model_module_version": "1.5.0",
      "model_name": "FloatProgressModel",
      "state": {
       "_dom_classes": [],
       "_model_module": "@jupyter-widgets/controls",
       "_model_module_version": "1.5.0",
       "_model_name": "FloatProgressModel",
       "_view_count": null,
       "_view_module": "@jupyter-widgets/controls",
       "_view_module_version": "1.5.0",
       "_view_name": "ProgressView",
       "bar_style": "success",
       "description": "",
       "description_tooltip": null,
       "layout": "IPY_MODEL_58d2eb8361d741edaa26972a7653df99",
       "max": 1.0,
       "min": 0.0,
       "orientation": "horizontal",
       "style": "IPY_MODEL_4cae268558df4200a3fe9e6b83ea0905",
       "value": 1.0
      }
     }
    },
    "version_major": 2,
    "version_minor": 0
   }
  }
 },
 "nbformat": 4,
 "nbformat_minor": 4
}
